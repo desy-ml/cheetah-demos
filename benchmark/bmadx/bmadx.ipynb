{
 "cells": [
  {
   "cell_type": "code",
   "execution_count": 1,
   "metadata": {},
   "outputs": [],
   "source": [
    "# To run this Notebook you need to clone the Bmad-X repository and install it\n",
    "# as edditable!"
   ]
  },
  {
   "cell_type": "code",
   "execution_count": 2,
   "metadata": {},
   "outputs": [
    {
     "name": "stderr",
     "output_type": "stream",
     "text": [
      "/opt/homebrew/Caskroom/miniforge/base/envs/cheetah-demos/lib/python3.9/site-packages/ocelot/cpbd/beam.py:1567: NumbaDeprecationWarning: The 'nopython' keyword argument was not supplied to the 'numba.jit' decorator. The implicit default value for this argument is currently False, but it will be changed to True in Numba 0.59.0. See https://numba.readthedocs.io/en/stable/reference/deprecation.html#deprecation-of-object-mode-fall-back-behaviour-when-using-jit for details.\n",
      "  slice_analysis = slice_analysis_py if not nb_flag else nb.jit(slice_analysis_py)\n",
      "/opt/homebrew/Caskroom/miniforge/base/envs/cheetah-demos/lib/python3.9/site-packages/ocelot/cpbd/tm_utils.py:153: NumbaDeprecationWarning: The 'nopython' keyword argument was not supplied to the 'numba.jit' decorator. The implicit default value for this argument is currently False, but it will be changed to True in Numba 0.59.0. See https://numba.readthedocs.io/en/stable/reference/deprecation.html#deprecation-of-object-mode-fall-back-behaviour-when-using-jit for details.\n",
      "  transfer_maps_mult = transfer_maps_mult_py if nb_flag is not True else nb.jit(transfer_maps_mult_py)\n",
      "/opt/homebrew/Caskroom/miniforge/base/envs/cheetah-demos/lib/python3.9/site-packages/ocelot/cpbd/high_order.py:941: NumbaDeprecationWarning: The 'nopython' keyword argument was not supplied to the 'numba.jit' decorator. The implicit default value for this argument is currently False, but it will be changed to True in Numba 0.59.0. See https://numba.readthedocs.io/en/stable/reference/deprecation.html#deprecation-of-object-mode-fall-back-behaviour-when-using-jit for details.\n",
      "  moments = moments_py if not nb_flag else nb.jit(moments_py)\n",
      "/opt/homebrew/Caskroom/miniforge/base/envs/cheetah-demos/lib/python3.9/site-packages/ocelot/cpbd/elements/undulator_atom.py:58: NumbaDeprecationWarning: The 'nopython' keyword argument was not supplied to the 'numba.jit' decorator. The implicit default value for this argument is currently False, but it will be changed to True in Numba 0.59.0. See https://numba.readthedocs.io/en/stable/reference/deprecation.html#deprecation-of-object-mode-fall-back-behaviour-when-using-jit for details.\n",
      "  und_field = und_field_py if not nb_flag else nb.jit(forceobj=False)(und_field_py)\n",
      "/opt/homebrew/Caskroom/miniforge/base/envs/cheetah-demos/lib/python3.9/site-packages/ocelot/rad/radiation_py.py:434: NumbaDeprecationWarning: The 'nopython' keyword argument was not supplied to the 'numba.jit' decorator. The implicit default value for this argument is currently False, but it will be changed to True in Numba 0.59.0. See https://numba.readthedocs.io/en/stable/reference/deprecation.html#deprecation-of-object-mode-fall-back-behaviour-when-using-jit for details.\n",
      "  gintegrator_over_traj = gintegrator_over_traj_py if not nb_flag else nb.jit(gintegrator_over_traj_py)\n",
      "[INFO    ] \u001b[0mcsr.py: module PYFFTW is not installed. Install it to speed up calculation.\u001b[0m\n",
      "/opt/homebrew/Caskroom/miniforge/base/envs/cheetah-demos/lib/python3.9/site-packages/ocelot/cpbd/wake3D.py:80: NumbaDeprecationWarning: The 'nopython' keyword argument was not supplied to the 'numba.jit' decorator. The implicit default value for this argument is currently False, but it will be changed to True in Numba 0.59.0. See https://numba.readthedocs.io/en/stable/reference/deprecation.html#deprecation-of-object-mode-fall-back-behaviour-when-using-jit for details.\n",
      "  project_on_grid = project_on_grid_py if not nb_flag else nb.jit(project_on_grid_py)\n"
     ]
    },
    {
     "name": "stdout",
     "output_type": "stream",
     "text": [
      "initializing ocelot...\n",
      "import: module PYFFTW is not installed. Install it to speed up calculation\n"
     ]
    }
   ],
   "source": [
    "import ARESlatticeStage3v1_9 as ares\n",
    "import bmadx\n",
    "import cheetah\n",
    "import matplotlib.pyplot as plt\n",
    "import ocelot\n",
    "import torch\n",
    "from ocelot.adaptors.astra2ocelot import astraBeam2particleArray"
   ]
  },
  {
   "cell_type": "code",
   "execution_count": 3,
   "metadata": {},
   "outputs": [
    {
     "name": "stdout",
     "output_type": "stream",
     "text": [
      "Astra to Ocelot: charge =  5.000000000001694e-13  C\n",
      "Astra to Ocelot: particles number =  100000\n",
      "Astra to Ocelot: energy =  0.10731590244355117  GeV\n",
      "Astra to Ocelot: s pos =  13.50890653269  m\n"
     ]
    },
    {
     "data": {
      "text/plain": [
       "Particle(x=array([ 5.08957129e-08,  6.15034578e-05,  2.30254514e-08, ...,\n",
       "        2.08621251e-04,  5.64747744e-05, -6.26614324e-05]), px=array([ 5.99166607e-09,  6.28096994e-07,  6.38793974e-09, ...,\n",
       "        5.50625646e-06,  1.21757376e-06, -2.37840015e-06]), y=array([-5.47305446e-07, -5.50215348e-07,  4.40441298e-05, ...,\n",
       "        2.01889701e-04,  2.77884048e-04,  2.16434721e-04]), py=array([-1.22334631e-08, -1.17054384e-08,  1.65533365e-07, ...,\n",
       "        6.02466623e-06,  7.84711679e-06,  6.54106916e-06]), z=array([-0.00000000e+00,  2.18696679e-06,  6.85092638e-07, ...,\n",
       "        8.31485105e-07,  1.18904531e-06,  6.57932034e-06]), pz=array([ 0.        , -0.00102566,  0.0011856 , ..., -0.00054731,\n",
       "        0.00143682, -0.00181577]), s=0.0, p0c=107314685.84229998, mc2=510998.94999999995)"
      ]
     },
     "execution_count": 3,
     "metadata": {},
     "output_type": "execute_result"
    }
   ],
   "source": [
    "particle_array = astraBeam2particleArray(\"ACHIP_EA1_2021.1351.001\")\n",
    "beam = bmadx.Particle(\n",
    "    *particle_array.rparticles, 0.0, particle_array.p0c * 1e9, bmadx.M_ELECTRON\n",
    ")\n",
    "beam"
   ]
  },
  {
   "cell_type": "code",
   "execution_count": 4,
   "metadata": {},
   "outputs": [
    {
     "data": {
      "text/plain": [
       "Segment(elements=ModuleList(\n",
       "  (0): Marker(name='AREASOLA1')\n",
       "  (1): Drift(length=tensor(0.1750))\n",
       "  (2): Quadrupole(length=tensor(0.1220), k1=tensor(0.), misalignment=tensor([0., 0.]), tilt=tensor(0.), name='AREAMQZM1')\n",
       "  (3): Drift(length=tensor(0.4280))\n",
       "  (4): Quadrupole(length=tensor(0.1220), k1=tensor(0.), misalignment=tensor([0., 0.]), tilt=tensor(0.), name='AREAMQZM2')\n",
       "  (5): Drift(length=tensor(0.2040))\n",
       "  (6): VerticalCorrector(length=tensor(0.0200), angle=tensor(0.), name='AREAMCVM1')\n",
       "  (7): Drift(length=tensor(0.2040))\n",
       "  (8): Quadrupole(length=tensor(0.1220), k1=tensor(0.), misalignment=tensor([0., 0.]), tilt=tensor(0.), name='AREAMQZM3')\n",
       "  (9): Drift(length=tensor(0.1790))\n",
       "  (10): HorizontalCorrector(length=tensor(0.0200), angle=tensor(0.), name='AREAMCHM1')\n",
       "  (11): Drift(length=tensor(0.4500))\n",
       "  (12): Screen(resolution=tensor([2448, 2040]), pixel_size=tensor([3.5488e-06, 2.5003e-06]), binning=tensor(1), misalignment=tensor([0., 0.]), is_active=False, name='AREABSCR1')\n",
       "), name='unnamed')"
      ]
     },
     "execution_count": 4,
     "metadata": {},
     "output_type": "execute_result"
    }
   ],
   "source": [
    "segment = cheetah.Segment.from_ocelot(ares.cell, warnings=False).subcell(\n",
    "    \"AREASOLA1\", \"AREABSCR1\"\n",
    ")\n",
    "segment"
   ]
  },
  {
   "cell_type": "code",
   "execution_count": 5,
   "metadata": {},
   "outputs": [],
   "source": [
    "lattice = [\n",
    "    bmadx.Drift(L=0.1750),\n",
    "    bmadx.Quadrupole(L=0.1220, K1=10.0),  # AREAMQZM1\n",
    "    bmadx.Drift(L=0.4280),\n",
    "    bmadx.Quadrupole(L=0.1220, K1=-9.0),  # AREAMQZM2\n",
    "    bmadx.Drift(L=0.2040),\n",
    "    bmadx.SBend(L=0.0200, G=1e-3 / 0.0200, P0C=beam.p0c),  # AREAMCVM1\n",
    "    bmadx.Drift(L=0.2040),\n",
    "    bmadx.Quadrupole(L=0.1220, K1=-8.0),  # AREAMQZM3\n",
    "    bmadx.Drift(L=0.1790),\n",
    "    bmadx.SBend(L=0.0200, G=-2e-3 / 0.0200, P0C=beam.p0c),  # AREAMCHM1\n",
    "    bmadx.Drift(L=0.4500),\n",
    "]"
   ]
  },
  {
   "cell_type": "code",
   "execution_count": 6,
   "metadata": {},
   "outputs": [
    {
     "name": "stdout",
     "output_type": "stream",
     "text": [
      "40.5 ms ± 622 µs per loop (mean ± std. dev. of 7 runs, 10 loops each)\n"
     ]
    }
   ],
   "source": [
    "%%timeit\n",
    "out_beam = bmadx.track_lattice(beam, lattice)"
   ]
  },
  {
   "cell_type": "code",
   "execution_count": 7,
   "metadata": {},
   "outputs": [
    {
     "data": {
      "text/plain": [
       "Particle(x=array([-1.66567941e-08, -4.32792107e-05,  3.09825543e-07, ...,\n",
       "       -1.34115013e-04, -3.64439013e-05,  3.75587533e-05]), px=array([-2.86337034e-08, -5.27421538e-05, -8.64738075e-07, ...,\n",
       "       -1.71245522e-04, -4.80505413e-05,  5.09825009e-05]), y=array([-2.97942814e-08, -2.85989616e-08,  2.04185582e-06, ...,\n",
       "        1.16189435e-05,  1.67532978e-05,  1.19980789e-05]), py=array([ 1.03843481e-06,  1.04389640e-06, -8.28973903e-05, ...,\n",
       "       -3.84308696e-04, -5.28226243e-04, -4.12258560e-04]), z=array([-2.00071902e-11,  2.08998838e-06,  7.38066400e-07, ...,\n",
       "        5.58836216e-07,  1.08082523e-06,  6.44747581e-06]), pz=array([ 0.        , -0.00102566,  0.0011856 , ..., -0.00054731,\n",
       "        0.00143682, -0.00181577]), s=2.046, p0c=107314685.84229998, mc2=510998.94999999995)"
      ]
     },
     "execution_count": 7,
     "metadata": {},
     "output_type": "execute_result"
    }
   ],
   "source": [
    "out_beam = bmadx.track_lattice(beam, lattice)\n",
    "out_beam"
   ]
  },
  {
   "cell_type": "code",
   "execution_count": null,
   "metadata": {},
   "outputs": [],
   "source": []
  }
 ],
 "metadata": {
  "kernelspec": {
   "display_name": "cheetah-demos",
   "language": "python",
   "name": "python3"
  },
  "language_info": {
   "codemirror_mode": {
    "name": "ipython",
    "version": 3
   },
   "file_extension": ".py",
   "mimetype": "text/x-python",
   "name": "python",
   "nbconvert_exporter": "python",
   "pygments_lexer": "ipython3",
   "version": "3.9.18"
  }
 },
 "nbformat": 4,
 "nbformat_minor": 4
}
