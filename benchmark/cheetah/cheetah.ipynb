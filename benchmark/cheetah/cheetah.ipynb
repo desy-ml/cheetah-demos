{
 "cells": [
  {
   "cell_type": "code",
   "execution_count": 1,
   "metadata": {},
   "outputs": [
    {
     "name": "stderr",
     "output_type": "stream",
     "text": [
      "[INFO    ] \u001b[0mcsr.py: module PYFFTW is not installed. Install it to speed up calculation.\u001b[0m\n"
     ]
    },
    {
     "name": "stdout",
     "output_type": "stream",
     "text": [
      "initializing ocelot...\n",
      "import: module PYFFTW is not installed. Install it to speed up calculation\n"
     ]
    }
   ],
   "source": [
    "import ARESlatticeStage3v1_9 as ares\n",
    "import cheetah\n",
    "import matplotlib.pyplot as plt\n",
    "import torch"
   ]
  },
  {
   "cell_type": "markdown",
   "metadata": {},
   "source": [
    "### Loading the lattice\n",
    "\n",
    "The lattice is available in Ocelot's format, so we use the `from_ocelot` class method of `Segement`. Because we only care about the Experimental Area (EA), we then select a subcell of the lattice file of the entire ARES accelerator.\n",
    "\n",
    "Unlike Cheetah, Ocelot does not support screens. Therefore, when Oceloet `Marker`s have the substiring `\"screen\"` in their name, Cheetah creates a `Screen` element with default properties and emits a warning about this. We can than manually set the correct screen properties.\n"
   ]
  },
  {
   "cell_type": "code",
   "execution_count": 2,
   "metadata": {},
   "outputs": [
    {
     "data": {
      "text/plain": [
       "Segment(elements=ModuleList(\n",
       "  (0): Marker(name='AREASOLA1')\n",
       "  (1): Drift(length=tensor(0.1750), tracking_method='cheetah', name='Drift_AREASOLA1')\n",
       "  (2): Quadrupole(length=tensor(0.1220), k1=tensor(10.), misalignment=tensor([0., 0.]), tilt=tensor(0.), num_steps=1, tracking_method='cheetah', name='AREAMQZM1')\n",
       "  (3): Drift(length=tensor(0.4280), tracking_method='cheetah', name='Drift_AREAMQZM1')\n",
       "  (4): Quadrupole(length=tensor(0.1220), k1=tensor(-9.), misalignment=tensor([0., 0.]), tilt=tensor(0.), num_steps=1, tracking_method='cheetah', name='AREAMQZM2')\n",
       "  (5): Drift(length=tensor(0.2040), tracking_method='cheetah', name='Drift_AREAMQZM2')\n",
       "  (6): VerticalCorrector(length=tensor(0.0200), angle=tensor(0.0010), name='AREAMCVM1')\n",
       "  (7): Drift(length=tensor(0.2040), tracking_method='cheetah', name='Drift_AREAMCVM1')\n",
       "  (8): Quadrupole(length=tensor(0.1220), k1=tensor(-8.), misalignment=tensor([0., 0.]), tilt=tensor(0.), num_steps=1, tracking_method='cheetah', name='AREAMQZM3')\n",
       "  (9): Drift(length=tensor(0.1790), tracking_method='cheetah', name='Drift_AREAMQZM3')\n",
       "  (10): HorizontalCorrector(length=tensor(0.0200), angle=tensor(-0.0020), name='AREAMCHM1')\n",
       "  (11): Drift(length=tensor(0.4500), tracking_method='cheetah', name='Drift_AREAMCHM1')\n",
       "  (12): Screen(resolution=tensor([2448., 2040.]), pixel_size=tensor([3.3198e-06, 2.4469e-06]), binning=1, misalignment=tensor([0., 0.]), method='histogram', kde_bandwidth=tensor(0.0010), is_active=False, name='AREABSCR1')\n",
       "), name='unnamed_element_1')"
      ]
     },
     "execution_count": 2,
     "metadata": {},
     "output_type": "execute_result"
    }
   ],
   "source": [
    "segment = cheetah.Segment.from_ocelot(ares.cell, warnings=False).subcell(\n",
    "    \"AREASOLA1\", \"AREABSCR1\"\n",
    ")\n",
    "\n",
    "# Manually set screen properties\n",
    "segment.AREABSCR1.resolution = torch.tensor((2448, 2040), dtype=torch.float32)\n",
    "segment.AREABSCR1.pixel_size = torch.tensor((3.3198e-6, 2.4469e-6), dtype=torch.float32)\n",
    "\n",
    "# Set some values on the magnets\n",
    "segment.AREAMQZM1.k1 = torch.tensor(10.0, dtype=torch.float32)\n",
    "segment.AREAMQZM2.k1 = torch.tensor(-9.0, dtype=torch.float32)\n",
    "segment.AREAMCVM1.angle = torch.tensor(1e-3, dtype=torch.float32)\n",
    "segment.AREAMQZM3.k1 = torch.tensor(-8.0, dtype=torch.float32)\n",
    "segment.AREAMCHM1.angle = torch.tensor(-2e-3, dtype=torch.float32)\n",
    "\n",
    "segment"
   ]
  },
  {
   "cell_type": "markdown",
   "metadata": {},
   "source": [
    "### Load particle distribution\n",
    "\n",
    "We load the beam both as a `ParameterBeam` and a `ParticleBeam` in order to test Cheetah's speed in both its fastest as well as its full particle tracking mode.\n"
   ]
  },
  {
   "cell_type": "code",
   "execution_count": 3,
   "metadata": {},
   "outputs": [
    {
     "data": {
      "text/plain": [
       "ParameterBeam(mu_x=tensor(8.2413e-07), mu_px=tensor(5.9885e-08), mu_y=tensor(-1.7276e-06), mu_py=tensor(-1.1746e-07), sigma_x=tensor(0.0002), sigma_px=tensor(3.6794e-06), sigma_y=tensor(0.0002), sigma_py=tensor(3.6941e-06), sigma_tau=tensor(8.0116e-06), sigma_p=tensor(0.0023), energy=tensor(1.0732e+08)), total_charge=tensor(5.0000e-13))"
      ]
     },
     "execution_count": 3,
     "metadata": {},
     "output_type": "execute_result"
    }
   ],
   "source": [
    "parameter_beam = cheetah.ParameterBeam.from_astra(\n",
    "    \"ACHIP_EA1_2021.1351.001\", device=\"cpu\"\n",
    ")\n",
    "parameter_beam"
   ]
  },
  {
   "cell_type": "code",
   "execution_count": 4,
   "metadata": {},
   "outputs": [
    {
     "data": {
      "text/plain": [
       "ParticleBeam(n=100000, mu_x=tensor(8.2413e-07), mu_px=tensor(5.9885e-08), mu_y=tensor(-1.7276e-06), mu_py=tensor(-1.1746e-07), sigma_x=tensor(0.0002), sigma_px=tensor(3.6794e-06), sigma_y=tensor(0.0002), sigma_py=tensor(3.6941e-06), sigma_tau=tensor(8.0116e-06), sigma_p=tensor(0.0023), energy=tensor(1.0732e+08)) total_charge=tensor(5.0000e-13))"
      ]
     },
     "execution_count": 4,
     "metadata": {},
     "output_type": "execute_result"
    }
   ],
   "source": [
    "particle_beam = cheetah.ParticleBeam.from_astra(\"ACHIP_EA1_2021.1351.001\", device=\"cpu\")\n",
    "particle_beam"
   ]
  },
  {
   "cell_type": "code",
   "execution_count": 5,
   "metadata": {},
   "outputs": [
    {
     "data": {
      "text/plain": [
       "ParticleBeam(n=10000000, mu_x=tensor(7.6383e-07), mu_px=tensor(5.9207e-08), mu_y=tensor(-1.6482e-06), mu_py=tensor(-1.1734e-07), sigma_x=tensor(0.0002), sigma_px=tensor(3.6800e-06), sigma_y=tensor(0.0002), sigma_py=tensor(3.6939e-06), sigma_tau=tensor(8.0125e-06), sigma_p=tensor(0.0023), energy=tensor(1.0732e+08)) total_charge=tensor(5.0000e-13))"
      ]
     },
     "execution_count": 5,
     "metadata": {},
     "output_type": "execute_result"
    }
   ],
   "source": [
    "particle_beam_10m = cheetah.ParticleBeam.from_parameters(\n",
    "    num_particles=10_000_000,\n",
    "    mu_x=particle_beam.mu_x,\n",
    "    mu_y=particle_beam.mu_y,\n",
    "    mu_px=particle_beam.mu_px,\n",
    "    mu_py=particle_beam.mu_py,\n",
    "    sigma_x=particle_beam.sigma_x,\n",
    "    sigma_y=particle_beam.sigma_y,\n",
    "    sigma_px=particle_beam.sigma_px,\n",
    "    sigma_py=particle_beam.sigma_py,\n",
    "    sigma_tau=particle_beam.sigma_tau,\n",
    "    sigma_p=particle_beam.sigma_p,\n",
    "    # cor_x=particle_beam.cor_x,\n",
    "    # cor_y=particle_beam.cor_y,\n",
    "    # cor_tau=particle_beam.cor_tau,\n",
    "    energy=particle_beam.energy,\n",
    "    total_charge=particle_beam.total_charge,\n",
    "    device=particle_beam.particles.device,\n",
    "    dtype=particle_beam.particles.dtype,\n",
    ")\n",
    "particle_beam_10m"
   ]
  },
  {
   "cell_type": "markdown",
   "metadata": {},
   "source": [
    "### Benchmark\n",
    "\n",
    "We first start with a simple benchmark just tracking particles.\n"
   ]
  },
  {
   "cell_type": "code",
   "execution_count": 6,
   "metadata": {},
   "outputs": [],
   "source": [
    "optimized_segment = segment.transfer_maps_merged(incoming_beam=particle_beam)"
   ]
  },
  {
   "cell_type": "markdown",
   "metadata": {},
   "source": [
    "#### Parameter Beam\n"
   ]
  },
  {
   "cell_type": "code",
   "execution_count": 7,
   "metadata": {},
   "outputs": [],
   "source": [
    "segment.AREABSCR1.is_active = False"
   ]
  },
  {
   "cell_type": "code",
   "execution_count": 8,
   "metadata": {},
   "outputs": [
    {
     "name": "stdout",
     "output_type": "stream",
     "text": [
      "862 μs ± 26.6 μs per loop (mean ± std. dev. of 7 runs, 1,000 loops each)\n"
     ]
    }
   ],
   "source": [
    "%%timeit\n",
    "outgoing = segment.track(parameter_beam)"
   ]
  },
  {
   "cell_type": "code",
   "execution_count": 9,
   "metadata": {},
   "outputs": [
    {
     "name": "stdout",
     "output_type": "stream",
     "text": [
      "70.8 μs ± 2.62 μs per loop (mean ± std. dev. of 7 runs, 10,000 loops each)\n"
     ]
    }
   ],
   "source": [
    "%%timeit\n",
    "outgoing = optimized_segment.track(parameter_beam)"
   ]
  },
  {
   "cell_type": "code",
   "execution_count": 10,
   "metadata": {},
   "outputs": [
    {
     "data": {
      "text/plain": [
       "ParameterBeam(mu_x=tensor(-0.0009), mu_px=tensor(-0.0020), mu_y=tensor(0.0008), mu_py=tensor(0.0007), sigma_x=tensor(0.0001), sigma_px=tensor(0.0001), sigma_y=tensor(9.2004e-06), sigma_py=tensor(0.0003), sigma_tau=tensor(7.9948e-06), sigma_p=tensor(0.0023), energy=tensor(1.0732e+08)), total_charge=tensor(5.0000e-13))"
      ]
     },
     "execution_count": 10,
     "metadata": {},
     "output_type": "execute_result"
    }
   ],
   "source": [
    "outgoing = segment.track(parameter_beam)\n",
    "outgoing"
   ]
  },
  {
   "cell_type": "markdown",
   "metadata": {},
   "source": [
    "We continue with a benchmark tracking particles and then reading the screen.\n"
   ]
  },
  {
   "cell_type": "code",
   "execution_count": 11,
   "metadata": {},
   "outputs": [],
   "source": [
    "segment.AREABSCR1.is_active = True"
   ]
  },
  {
   "cell_type": "code",
   "execution_count": 12,
   "metadata": {},
   "outputs": [
    {
     "name": "stdout",
     "output_type": "stream",
     "text": [
      "24.4 ms ± 2.91 ms per loop (mean ± std. dev. of 7 runs, 10 loops each)\n"
     ]
    }
   ],
   "source": [
    "%%timeit\n",
    "outgoing = segment.track(parameter_beam)\n",
    "img = segment.AREABSCR1.reading"
   ]
  },
  {
   "cell_type": "code",
   "execution_count": 13,
   "metadata": {},
   "outputs": [
    {
     "name": "stdout",
     "output_type": "stream",
     "text": [
      "ParameterBeam(mu_x=tensor(-0.0009), mu_px=tensor(-0.0020), mu_y=tensor(0.0008), mu_py=tensor(0.0007), sigma_x=tensor(0.0001), sigma_px=tensor(0.0001), sigma_y=tensor(9.2004e-06), sigma_py=tensor(0.0003), sigma_tau=tensor(7.9948e-06), sigma_p=tensor(0.0023), energy=tensor(1.0732e+08)), total_charge=tensor(5.0000e-13))\n"
     ]
    },
    {
     "data": {
      "image/png": "[encoded data removed]",
      "text/plain": [
       "<Figure size 640x480 with 1 Axes>"
      ]
     },
     "metadata": {},
     "output_type": "display_data"
    }
   ],
   "source": [
    "outgoing = segment.track(parameter_beam)\n",
    "img = segment.AREABSCR1.reading\n",
    "\n",
    "print(outgoing)  # Should be an empty beam because it is blocked by the screen\n",
    "\n",
    "plt.imshow(img.numpy(), extent=segment.AREABSCR1.extent.numpy())\n",
    "plt.show()"
   ]
  },
  {
   "cell_type": "markdown",
   "metadata": {},
   "source": [
    "#### Particle Beam\n"
   ]
  },
  {
   "cell_type": "code",
   "execution_count": 14,
   "metadata": {},
   "outputs": [],
   "source": [
    "segment.AREABSCR1.is_active = False"
   ]
  },
  {
   "cell_type": "code",
   "execution_count": 15,
   "metadata": {},
   "outputs": [
    {
     "name": "stdout",
     "output_type": "stream",
     "text": [
      "1.98 ms ± 84.7 μs per loop (mean ± std. dev. of 7 runs, 1,000 loops each)\n"
     ]
    }
   ],
   "source": [
    "%%timeit\n",
    "outgoing = segment.track(particle_beam)"
   ]
  },
  {
   "cell_type": "code",
   "execution_count": 16,
   "metadata": {},
   "outputs": [
    {
     "name": "stdout",
     "output_type": "stream",
     "text": [
      "971 μs ± 30.7 μs per loop (mean ± std. dev. of 7 runs, 1,000 loops each)\n"
     ]
    }
   ],
   "source": [
    "%%timeit\n",
    "outgoing = optimized_segment.track(particle_beam)"
   ]
  },
  {
   "cell_type": "code",
   "execution_count": 17,
   "metadata": {},
   "outputs": [
    {
     "name": "stdout",
     "output_type": "stream",
     "text": [
      "46.9 ms ± 379 μs per loop (mean ± std. dev. of 7 runs, 10 loops each)\n"
     ]
    }
   ],
   "source": [
    "%%timeit\n",
    "outgoing = segment.track(particle_beam_10m)"
   ]
  },
  {
   "cell_type": "code",
   "execution_count": 18,
   "metadata": {},
   "outputs": [
    {
     "name": "stdout",
     "output_type": "stream",
     "text": [
      "45.8 ms ± 466 μs per loop (mean ± std. dev. of 7 runs, 10 loops each)\n"
     ]
    }
   ],
   "source": [
    "%%timeit\n",
    "outgoing = optimized_segment.track(particle_beam_10m)"
   ]
  },
  {
   "cell_type": "code",
   "execution_count": 19,
   "metadata": {},
   "outputs": [
    {
     "data": {
      "text/plain": [
       "ParticleBeam(n=100000, mu_x=tensor(-0.0009), mu_px=tensor(-0.0020), mu_y=tensor(0.0008), mu_py=tensor(0.0007), sigma_x=tensor(0.0001), sigma_px=tensor(0.0001), sigma_y=tensor(9.2004e-06), sigma_py=tensor(0.0003), sigma_tau=tensor(7.9948e-06), sigma_p=tensor(0.0023), energy=tensor(1.0732e+08)) total_charge=tensor(5.0000e-13))"
      ]
     },
     "execution_count": 19,
     "metadata": {},
     "output_type": "execute_result"
    }
   ],
   "source": [
    "outgoing = segment(particle_beam)\n",
    "outgoing"
   ]
  },
  {
   "cell_type": "markdown",
   "metadata": {},
   "source": [
    "We continue with a benchmark tracking particles and then reading the screen.\n"
   ]
  },
  {
   "cell_type": "code",
   "execution_count": 20,
   "metadata": {},
   "outputs": [],
   "source": [
    "segment.AREABSCR1.is_active = True"
   ]
  },
  {
   "cell_type": "code",
   "execution_count": 21,
   "metadata": {},
   "outputs": [
    {
     "name": "stdout",
     "output_type": "stream",
     "text": [
      "15.4 ms ± 1.18 ms per loop (mean ± std. dev. of 7 runs, 100 loops each)\n"
     ]
    }
   ],
   "source": [
    "%%timeit\n",
    "outgoing = segment.track(particle_beam)\n",
    "img = segment.AREABSCR1.reading"
   ]
  },
  {
   "cell_type": "code",
   "execution_count": 22,
   "metadata": {},
   "outputs": [
    {
     "name": "stdout",
     "output_type": "stream",
     "text": [
      "186 ms ± 13.8 ms per loop (mean ± std. dev. of 7 runs, 1 loop each)\n"
     ]
    }
   ],
   "source": [
    "%%timeit\n",
    "outgoing = segment.track(particle_beam_10m)\n",
    "img = segment.AREABSCR1.reading"
   ]
  },
  {
   "cell_type": "code",
   "execution_count": 23,
   "metadata": {},
   "outputs": [
    {
     "name": "stdout",
     "output_type": "stream",
     "text": [
      "ParticleBeam(n=100000, mu_x=tensor(-0.0009), mu_px=tensor(-0.0020), mu_y=tensor(0.0008), mu_py=tensor(0.0007), sigma_x=tensor(0.0001), sigma_px=tensor(0.0001), sigma_y=tensor(9.2004e-06), sigma_py=tensor(0.0003), sigma_tau=tensor(7.9948e-06), sigma_p=tensor(0.0023), energy=tensor(1.0732e+08)) total_charge=tensor(5.0000e-13))\n"
     ]
    },
    {
     "data": {
      "image/png": "[encoded data removed]",
      "text/plain": [
       "<Figure size 640x480 with 1 Axes>"
      ]
     },
     "metadata": {},
     "output_type": "display_data"
    }
   ],
   "source": [
    "outgoing = segment.track(particle_beam)\n",
    "img = segment.AREABSCR1.reading\n",
    "\n",
    "print(outgoing)  # Should be an empty beam because it is blocked by the screen\n",
    "\n",
    "plt.imshow(img.numpy(), extent=segment.AREABSCR1.extent.numpy())\n",
    "plt.show()"
   ]
  },
  {
   "cell_type": "code",
   "execution_count": null,
   "metadata": {},
   "outputs": [],
   "source": []
  }
 ],
 "metadata": {
  "kernelspec": {
   "display_name": "cheetah-demos",
   "language": "python",
   "name": "python3"
  },
  "language_info": {
   "codemirror_mode": {
    "name": "ipython",
    "version": 3
   },
   "file_extension": ".py",
   "mimetype": "text/x-python",
   "name": "python",
   "nbconvert_exporter": "python",
   "pygments_lexer": "ipython3",
   "version": "3.12.8"
  }
 },
 "nbformat": 4,
 "nbformat_minor": 4
}
