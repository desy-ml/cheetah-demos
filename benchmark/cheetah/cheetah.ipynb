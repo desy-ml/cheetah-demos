{
 "cells": [
  {
   "cell_type": "code",
   "execution_count": 1,
   "metadata": {},
   "outputs": [
    {
     "name": "stderr",
     "output_type": "stream",
     "text": [
      "[INFO    ] \u001b[0mcsr.py: module PYFFTW is not installed. Install it to speed up calculation.\u001b[0m\n"
     ]
    },
    {
     "name": "stdout",
     "output_type": "stream",
     "text": [
      "initializing ocelot...\n",
      "import: module PYFFTW is not installed. Install it to speed up calculation\n"
     ]
    }
   ],
   "source": [
    "import ARESlatticeStage3v1_9 as ares\n",
    "import cheetah\n",
    "import matplotlib.pyplot as plt\n",
    "import torch"
   ]
  },
  {
   "cell_type": "markdown",
   "metadata": {},
   "source": [
    "### Loading the lattice\n",
    "\n",
    "The lattice is available in Ocelot's format, so we use the `from_ocelot` class method of `Segement`. Because we only care about the Experimental Area (EA), we then select a subcell of the lattice file of the entire ARES accelerator.\n",
    "\n",
    "Unlike Cheetah, Ocelot does not support screens. Therefore, when Oceloet `Marker`s have the substiring `\"screen\"` in their name, Cheetah creates a `Screen` element with default properties and emits a warning about this. We can than manually set the correct screen properties.\n"
   ]
  },
  {
   "cell_type": "code",
   "execution_count": 2,
   "metadata": {},
   "outputs": [
    {
     "name": "stderr",
     "output_type": "stream",
     "text": [
      "/opt/homebrew/Caskroom/miniforge/base/envs/cheetah-demos/lib/python3.13/site-packages/cheetah/accelerator/segment.py:330: DefaultParameterWarning: Diagnostic screen was converted with default screen properties.\n",
      "  ocelot.convert_element_to_cheetah(\n"
     ]
    },
    {
     "data": {
      "text/plain": [
       "Segment(elements=ModuleList(\n",
       "  (0): Marker(name='AREASOLA1')\n",
       "  (1): Drift(length=tensor(0.1750), tracking_method='cheetah', name='Drift_AREASOLA1')\n",
       "  (2): Quadrupole(length=tensor(0.1220), k1=tensor(10.), misalignment=tensor([0., 0.]), tilt=tensor(0.), num_steps=1, tracking_method='cheetah', name='AREAMQZM1')\n",
       "  (3): Drift(length=tensor(0.4280), tracking_method='cheetah', name='Drift_AREAMQZM1')\n",
       "  (4): Quadrupole(length=tensor(0.1220), k1=tensor(-9.), misalignment=tensor([0., 0.]), tilt=tensor(0.), num_steps=1, tracking_method='cheetah', name='AREAMQZM2')\n",
       "  (5): Drift(length=tensor(0.2040), tracking_method='cheetah', name='Drift_AREAMQZM2')\n",
       "  (6): VerticalCorrector(length=tensor(0.0200), angle=tensor(0.0010), name='AREAMCVM1')\n",
       "  (7): Drift(length=tensor(0.2040), tracking_method='cheetah', name='Drift_AREAMCVM1')\n",
       "  (8): Quadrupole(length=tensor(0.1220), k1=tensor(-8.), misalignment=tensor([0., 0.]), tilt=tensor(0.), num_steps=1, tracking_method='cheetah', name='AREAMQZM3')\n",
       "  (9): Drift(length=tensor(0.1790), tracking_method='cheetah', name='Drift_AREAMQZM3')\n",
       "  (10): HorizontalCorrector(length=tensor(0.0200), angle=tensor(-0.0020), name='AREAMCHM1')\n",
       "  (11): Drift(length=tensor(0.4500), tracking_method='cheetah', name='Drift_AREAMCHM1')\n",
       "  (12): Screen(resolution=tensor([2448., 2040.]), pixel_size=tensor([3.3198e-06, 2.4469e-06]), binning=1, misalignment=tensor([0., 0.]), method='histogram', kde_bandwidth=tensor(3.5488e-06), is_active=False, name='AREABSCR1')\n",
       "), name='unnamed_element_1')"
      ]
     },
     "execution_count": 2,
     "metadata": {},
     "output_type": "execute_result"
    }
   ],
   "source": [
    "segment = cheetah.Segment.from_ocelot(ares.cell).subcell(\n",
    "    \"AREASOLA1\", \"AREABSCR1\"\n",
    ")\n",
    "\n",
    "# Manually set screen properties\n",
    "segment.AREABSCR1.resolution = torch.tensor((2448, 2040), dtype=torch.float32)\n",
    "segment.AREABSCR1.pixel_size = torch.tensor((3.3198e-6, 2.4469e-6), dtype=torch.float32)\n",
    "\n",
    "# Set some values on the magnets\n",
    "segment.AREAMQZM1.k1 = torch.tensor(10.0, dtype=torch.float32)\n",
    "segment.AREAMQZM2.k1 = torch.tensor(-9.0, dtype=torch.float32)\n",
    "segment.AREAMCVM1.angle = torch.tensor(1e-3, dtype=torch.float32)\n",
    "segment.AREAMQZM3.k1 = torch.tensor(-8.0, dtype=torch.float32)\n",
    "segment.AREAMCHM1.angle = torch.tensor(-2e-3, dtype=torch.float32)\n",
    "\n",
    "segment"
   ]
  },
  {
   "cell_type": "markdown",
   "metadata": {},
   "source": [
    "### Load particle distribution\n",
    "\n",
    "We load the beam both as a `ParameterBeam` and a `ParticleBeam` in order to test Cheetah's speed in both its fastest as well as its full particle tracking mode.\n"
   ]
  },
  {
   "cell_type": "code",
   "execution_count": 3,
   "metadata": {},
   "outputs": [
    {
     "data": {
      "text/plain": [
       "ParameterBeam(mu=tensor([ 8.2413e-07,  5.9885e-08, -1.7276e-06, -1.1746e-07,  5.7250e-06,\n",
       "         3.8292e-04,  1.0000e+00]), cov=tensor([[ 3.0589e-08,  5.5679e-10,  8.0207e-13,  2.2111e-13, -6.3953e-13,\n",
       "         -7.6916e-12,  0.0000e+00],\n",
       "        [ 5.5679e-10,  1.3538e-11,  9.8643e-14,  6.4855e-15, -3.6896e-14,\n",
       "         -8.0708e-14,  0.0000e+00],\n",
       "        [ 8.0207e-13,  9.8643e-14,  3.0693e-08,  5.6076e-10,  6.0425e-13,\n",
       "          3.3948e-11,  0.0000e+00],\n",
       "        [ 2.2111e-13,  6.4855e-15,  5.6076e-10,  1.3646e-11,  6.4452e-14,\n",
       "          5.3652e-12,  0.0000e+00],\n",
       "        [-6.3953e-13, -3.6896e-14,  6.0425e-13,  6.4452e-14,  6.4185e-11,\n",
       "          3.0040e-09,  0.0000e+00],\n",
       "        [-7.6916e-12, -8.0708e-14,  3.3948e-11,  5.3652e-12,  3.0040e-09,\n",
       "          5.2005e-06,  0.0000e+00],\n",
       "        [ 0.0000e+00,  0.0000e+00,  0.0000e+00,  0.0000e+00,  0.0000e+00,\n",
       "          0.0000e+00,  0.0000e+00]]), energy=tensor(1.0732e+08), total_charge=tensor(5.0000e-13), s=tensor(0.), species=Species(name='electron', num_elementary_charges=tensor(-1), mass_eV=tensor(510998.9375)))"
      ]
     },
     "execution_count": 3,
     "metadata": {},
     "output_type": "execute_result"
    }
   ],
   "source": [
    "parameter_beam = cheetah.ParameterBeam.from_astra(\n",
    "    \"ACHIP_EA1_2021.1351.001\", device=\"cpu\"\n",
    ")\n",
    "parameter_beam"
   ]
  },
  {
   "cell_type": "code",
   "execution_count": 4,
   "metadata": {},
   "outputs": [
    {
     "data": {
      "text/plain": [
       "ParticleBeam(particles=tensor([[ 5.0896e-08,  5.9917e-09, -5.4731e-07,  ..., -0.0000e+00,\n",
       "          2.2205e-16,  1.0000e+00],\n",
       "        [ 6.1503e-05,  6.2810e-07, -5.5022e-07,  ...,  2.1870e-06,\n",
       "         -1.0257e-03,  1.0000e+00],\n",
       "        [ 2.3025e-08,  6.3879e-09,  4.4044e-05,  ...,  6.8509e-07,\n",
       "          1.1856e-03,  1.0000e+00],\n",
       "        ...,\n",
       "        [ 2.0862e-04,  5.5063e-06,  2.0189e-04,  ...,  8.3149e-07,\n",
       "         -5.4731e-04,  1.0000e+00],\n",
       "        [ 5.6475e-05,  1.2176e-06,  2.7788e-04,  ...,  1.1890e-06,\n",
       "          1.4368e-03,  1.0000e+00],\n",
       "        [-6.2661e-05, -2.3784e-06,  2.1643e-04,  ...,  6.5793e-06,\n",
       "         -1.8158e-03,  1.0000e+00]]), energy=107315904.0, particle_charges=tensor([5.0000e-18, 5.0000e-18, 5.0000e-18,  ..., 5.0000e-18, 5.0000e-18,\n",
       "        5.0000e-18]), survival_probabilities=tensor([1., 1., 1.,  ..., 1., 1., 1.]), s=0.0, species=Species(name='electron', num_elementary_charges=tensor(-1), mass_eV=tensor(510998.9375)))"
      ]
     },
     "execution_count": 4,
     "metadata": {},
     "output_type": "execute_result"
    }
   ],
   "source": [
    "particle_beam = cheetah.ParticleBeam.from_astra(\"ACHIP_EA1_2021.1351.001\", device=\"cpu\")\n",
    "particle_beam"
   ]
  },
  {
   "cell_type": "code",
   "execution_count": 5,
   "metadata": {},
   "outputs": [
    {
     "data": {
      "text/plain": [
       "ParticleBeam(particles=tensor([[ 2.7265e-04, -4.6334e-06,  7.6674e-05,  ...,  2.0302e-06,\n",
       "          1.0566e-03,  1.0000e+00],\n",
       "        [-4.4610e-05,  3.0028e-06, -6.8614e-05,  ..., -1.7622e-06,\n",
       "         -2.6744e-04,  1.0000e+00],\n",
       "        [ 5.9648e-05, -2.8283e-07,  3.6053e-04,  ...,  4.8036e-06,\n",
       "         -2.0739e-03,  1.0000e+00],\n",
       "        ...,\n",
       "        [-1.2123e-04, -3.7300e-06, -1.4106e-04,  ..., -8.1808e-06,\n",
       "          2.1030e-03,  1.0000e+00],\n",
       "        [-7.7051e-05,  4.4461e-06, -7.9217e-05,  ...,  1.2682e-05,\n",
       "          2.6448e-03,  1.0000e+00],\n",
       "        [ 2.7039e-04,  5.0316e-06,  2.4954e-06,  ...,  1.5338e-05,\n",
       "          1.6441e-03,  1.0000e+00]]), energy=107315904.0, particle_charges=tensor([5.0000e-20, 5.0000e-20, 5.0000e-20,  ..., 5.0000e-20, 5.0000e-20,\n",
       "        5.0000e-20]), survival_probabilities=tensor([1., 1., 1.,  ..., 1., 1., 1.]), s=0.0, species=Species(name='electron', num_elementary_charges=tensor(-1), mass_eV=tensor(510998.9375)))"
      ]
     },
     "execution_count": 5,
     "metadata": {},
     "output_type": "execute_result"
    }
   ],
   "source": [
    "particle_beam_10m = cheetah.ParticleBeam.from_parameters(\n",
    "    num_particles=10_000_000,\n",
    "    mu_x=particle_beam.mu_x,\n",
    "    mu_y=particle_beam.mu_y,\n",
    "    mu_px=particle_beam.mu_px,\n",
    "    mu_py=particle_beam.mu_py,\n",
    "    sigma_x=particle_beam.sigma_x,\n",
    "    sigma_y=particle_beam.sigma_y,\n",
    "    sigma_px=particle_beam.sigma_px,\n",
    "    sigma_py=particle_beam.sigma_py,\n",
    "    sigma_tau=particle_beam.sigma_tau,\n",
    "    sigma_p=particle_beam.sigma_p,\n",
    "    # cor_x=particle_beam.cor_x,\n",
    "    # cor_y=particle_beam.cor_y,\n",
    "    # cor_tau=particle_beam.cor_tau,\n",
    "    energy=particle_beam.energy,\n",
    "    total_charge=particle_beam.total_charge,\n",
    "    device=particle_beam.particles.device,\n",
    "    dtype=particle_beam.particles.dtype,\n",
    ")\n",
    "particle_beam_10m"
   ]
  },
  {
   "cell_type": "markdown",
   "metadata": {},
   "source": [
    "### Benchmark\n",
    "\n",
    "We first start with a simple benchmark just tracking particles.\n"
   ]
  },
  {
   "cell_type": "code",
   "execution_count": 6,
   "metadata": {},
   "outputs": [],
   "source": [
    "optimized_segment = segment.transfer_maps_merged(incoming_beam=particle_beam)"
   ]
  },
  {
   "cell_type": "markdown",
   "metadata": {},
   "source": [
    "#### Parameter Beam\n"
   ]
  },
  {
   "cell_type": "code",
   "execution_count": 7,
   "metadata": {},
   "outputs": [],
   "source": [
    "segment.AREABSCR1.is_active = False"
   ]
  },
  {
   "cell_type": "code",
   "execution_count": 8,
   "metadata": {},
   "outputs": [
    {
     "name": "stdout",
     "output_type": "stream",
     "text": [
      "1.06 ms ± 19.9 μs per loop (mean ± std. dev. of 7 runs, 1,000 loops each)\n"
     ]
    }
   ],
   "source": [
    "%%timeit\n",
    "outgoing = segment.track(parameter_beam)"
   ]
  },
  {
   "cell_type": "code",
   "execution_count": 9,
   "metadata": {},
   "outputs": [
    {
     "name": "stdout",
     "output_type": "stream",
     "text": [
      "39.4 μs ± 115 ns per loop (mean ± std. dev. of 7 runs, 10,000 loops each)\n"
     ]
    }
   ],
   "source": [
    "%%timeit\n",
    "outgoing = optimized_segment.track(parameter_beam)"
   ]
  },
  {
   "cell_type": "code",
   "execution_count": 10,
   "metadata": {},
   "outputs": [
    {
     "data": {
      "text/plain": [
       "ParameterBeam(mu=tensor([-9.0040e-04, -2.0006e-03,  7.9550e-04,  7.4922e-04,  5.7072e-06,\n",
       "         3.8292e-04,  1.0000e+00]), cov=tensor([[ 1.3705e-08,  1.7307e-08, -8.7002e-14,  5.7429e-13,  3.4064e-13,\n",
       "          5.3441e-12,  0.0000e+00],\n",
       "        [ 1.7307e-08,  2.1863e-08, -1.1730e-13,  9.6521e-13,  4.6839e-13,\n",
       "          6.6667e-12,  0.0000e+00],\n",
       "        [-8.7002e-14, -1.1730e-13,  8.4647e-11, -3.0361e-09,  6.0675e-14,\n",
       "          4.3783e-12,  0.0000e+00],\n",
       "        [ 5.7429e-13,  9.6521e-13, -3.0361e-09,  1.1013e-07, -1.1828e-12,\n",
       "         -6.7982e-11,  0.0000e+00],\n",
       "        [ 3.4064e-13,  4.6839e-13,  6.0675e-14, -1.1828e-12,  6.3917e-11,\n",
       "          2.7627e-09,  0.0000e+00],\n",
       "        [ 5.3441e-12,  6.6667e-12,  4.3783e-12, -6.7982e-11,  2.7627e-09,\n",
       "          5.2005e-06,  0.0000e+00],\n",
       "        [ 0.0000e+00,  0.0000e+00,  0.0000e+00,  0.0000e+00,  0.0000e+00,\n",
       "          0.0000e+00,  0.0000e+00]]), energy=tensor(1.0732e+08), total_charge=tensor(5.0000e-13), s=tensor(2.0460), species=Species(name='electron', num_elementary_charges=tensor(-1), mass_eV=tensor(510998.9375)))"
      ]
     },
     "execution_count": 10,
     "metadata": {},
     "output_type": "execute_result"
    }
   ],
   "source": [
    "outgoing = segment.track(parameter_beam)\n",
    "outgoing"
   ]
  },
  {
   "cell_type": "markdown",
   "metadata": {},
   "source": [
    "We continue with a benchmark tracking particles and then reading the screen.\n"
   ]
  },
  {
   "cell_type": "code",
   "execution_count": 11,
   "metadata": {},
   "outputs": [],
   "source": [
    "segment.AREABSCR1.is_active = True"
   ]
  },
  {
   "cell_type": "code",
   "execution_count": 12,
   "metadata": {},
   "outputs": [
    {
     "name": "stdout",
     "output_type": "stream",
     "text": [
      "24.5 ms ± 1.62 ms per loop (mean ± std. dev. of 7 runs, 10 loops each)\n"
     ]
    }
   ],
   "source": [
    "%%timeit\n",
    "outgoing = segment.track(parameter_beam)\n",
    "img = segment.AREABSCR1.reading"
   ]
  },
  {
   "cell_type": "code",
   "execution_count": 13,
   "metadata": {},
   "outputs": [
    {
     "name": "stdout",
     "output_type": "stream",
     "text": [
      "ParameterBeam(mu=tensor([-9.0040e-04, -2.0006e-03,  7.9550e-04,  7.4922e-04,  5.7072e-06,\n",
      "         3.8292e-04,  1.0000e+00]), cov=tensor([[ 1.3705e-08,  1.7307e-08, -8.7002e-14,  5.7429e-13,  3.4064e-13,\n",
      "          5.3441e-12,  0.0000e+00],\n",
      "        [ 1.7307e-08,  2.1863e-08, -1.1730e-13,  9.6521e-13,  4.6839e-13,\n",
      "          6.6667e-12,  0.0000e+00],\n",
      "        [-8.7002e-14, -1.1730e-13,  8.4647e-11, -3.0361e-09,  6.0675e-14,\n",
      "          4.3783e-12,  0.0000e+00],\n",
      "        [ 5.7429e-13,  9.6521e-13, -3.0361e-09,  1.1013e-07, -1.1828e-12,\n",
      "         -6.7982e-11,  0.0000e+00],\n",
      "        [ 3.4064e-13,  4.6839e-13,  6.0675e-14, -1.1828e-12,  6.3917e-11,\n",
      "          2.7627e-09,  0.0000e+00],\n",
      "        [ 5.3441e-12,  6.6667e-12,  4.3783e-12, -6.7982e-11,  2.7627e-09,\n",
      "          5.2005e-06,  0.0000e+00],\n",
      "        [ 0.0000e+00,  0.0000e+00,  0.0000e+00,  0.0000e+00,  0.0000e+00,\n",
      "          0.0000e+00,  0.0000e+00]]), energy=tensor(1.0732e+08), total_charge=tensor(5.0000e-13), s=tensor(2.0460), species=Species(name='electron', num_elementary_charges=tensor(-1), mass_eV=tensor(510998.9375)))\n"
     ]
    },
    {
     "data": {
      "image/png": "[encoded data removed]",
      "text/plain": [
       "<Figure size 640x480 with 1 Axes>"
      ]
     },
     "metadata": {},
     "output_type": "display_data"
    }
   ],
   "source": [
    "outgoing = segment.track(parameter_beam)\n",
    "img = segment.AREABSCR1.reading\n",
    "\n",
    "print(outgoing)  # Should be an empty beam because it is blocked by the screen\n",
    "\n",
    "plt.imshow(img.numpy(), extent=segment.AREABSCR1.extent.numpy())\n",
    "plt.show()"
   ]
  },
  {
   "cell_type": "markdown",
   "metadata": {},
   "source": [
    "#### Particle Beam\n"
   ]
  },
  {
   "cell_type": "code",
   "execution_count": 14,
   "metadata": {},
   "outputs": [],
   "source": [
    "segment.AREABSCR1.is_active = False"
   ]
  },
  {
   "cell_type": "code",
   "execution_count": 15,
   "metadata": {},
   "outputs": [
    {
     "name": "stdout",
     "output_type": "stream",
     "text": [
      "2.07 ms ± 108 μs per loop (mean ± std. dev. of 7 runs, 100 loops each)\n"
     ]
    }
   ],
   "source": [
    "%%timeit\n",
    "outgoing = segment.track(particle_beam)"
   ]
  },
  {
   "cell_type": "code",
   "execution_count": 16,
   "metadata": {},
   "outputs": [
    {
     "name": "stdout",
     "output_type": "stream",
     "text": [
      "970 μs ± 71.7 μs per loop (mean ± std. dev. of 7 runs, 1,000 loops each)\n"
     ]
    }
   ],
   "source": [
    "%%timeit\n",
    "outgoing = optimized_segment.track(particle_beam)"
   ]
  },
  {
   "cell_type": "code",
   "execution_count": 17,
   "metadata": {},
   "outputs": [
    {
     "name": "stdout",
     "output_type": "stream",
     "text": [
      "43.2 ms ± 243 μs per loop (mean ± std. dev. of 7 runs, 10 loops each)\n"
     ]
    }
   ],
   "source": [
    "%%timeit\n",
    "outgoing = segment.track(particle_beam_10m)"
   ]
  },
  {
   "cell_type": "code",
   "execution_count": 18,
   "metadata": {},
   "outputs": [
    {
     "name": "stdout",
     "output_type": "stream",
     "text": [
      "41.8 ms ± 218 μs per loop (mean ± std. dev. of 7 runs, 10 loops each)\n"
     ]
    }
   ],
   "source": [
    "%%timeit\n",
    "outgoing = optimized_segment.track(particle_beam_10m)"
   ]
  },
  {
   "cell_type": "code",
   "execution_count": 19,
   "metadata": {},
   "outputs": [
    {
     "data": {
      "text/plain": [
       "ParticleBeam(particles=tensor([[-9.0002e-04, -2.0000e-03,  7.9561e-04,  ..., -1.0301e-20,\n",
       "          2.2205e-16,  1.0000e+00],\n",
       "        [-9.4279e-04, -2.0534e-03,  7.9561e-04,  ...,  2.2345e-06,\n",
       "         -1.0257e-03,  1.0000e+00],\n",
       "        [-8.9999e-04, -2.0000e-03,  7.9759e-04,  ...,  6.3009e-07,\n",
       "          1.1856e-03,  1.0000e+00],\n",
       "        ...,\n",
       "        [-1.0336e-03, -2.1714e-03,  8.0746e-04,  ...,  8.5688e-07,\n",
       "         -5.4731e-04,  1.0000e+00],\n",
       "        [-9.3710e-04, -2.0472e-03,  8.1167e-04,  ...,  1.1224e-06,\n",
       "          1.4368e-03,  1.0000e+00],\n",
       "        [-8.6236e-04, -1.9506e-03,  8.0836e-04,  ...,  6.6636e-06,\n",
       "         -1.8158e-03,  1.0000e+00]]), energy=107315904.0, particle_charges=tensor([5.0000e-18, 5.0000e-18, 5.0000e-18,  ..., 5.0000e-18, 5.0000e-18,\n",
       "        5.0000e-18]), survival_probabilities=tensor([1., 1., 1.,  ..., 1., 1., 1.]), s=2.0460398197174072, species=Species(name='electron', num_elementary_charges=tensor(-1), mass_eV=tensor(510998.9375)))"
      ]
     },
     "execution_count": 19,
     "metadata": {},
     "output_type": "execute_result"
    }
   ],
   "source": [
    "outgoing = segment(particle_beam)\n",
    "outgoing"
   ]
  },
  {
   "cell_type": "markdown",
   "metadata": {},
   "source": [
    "We continue with a benchmark tracking particles and then reading the screen.\n"
   ]
  },
  {
   "cell_type": "code",
   "execution_count": 20,
   "metadata": {},
   "outputs": [],
   "source": [
    "segment.AREABSCR1.is_active = True"
   ]
  },
  {
   "cell_type": "code",
   "execution_count": 21,
   "metadata": {},
   "outputs": [
    {
     "name": "stdout",
     "output_type": "stream",
     "text": [
      "14.2 ms ± 463 μs per loop (mean ± std. dev. of 7 runs, 100 loops each)\n"
     ]
    }
   ],
   "source": [
    "%%timeit\n",
    "outgoing = segment.track(particle_beam)\n",
    "img = segment.AREABSCR1.reading"
   ]
  },
  {
   "cell_type": "code",
   "execution_count": 22,
   "metadata": {},
   "outputs": [
    {
     "name": "stdout",
     "output_type": "stream",
     "text": [
      "172 ms ± 1.53 ms per loop (mean ± std. dev. of 7 runs, 1 loop each)\n"
     ]
    }
   ],
   "source": [
    "%%timeit\n",
    "outgoing = segment.track(particle_beam_10m)\n",
    "img = segment.AREABSCR1.reading"
   ]
  },
  {
   "cell_type": "code",
   "execution_count": 23,
   "metadata": {},
   "outputs": [
    {
     "name": "stdout",
     "output_type": "stream",
     "text": [
      "ParticleBeam(particles=tensor([[-9.0002e-04, -2.0000e-03,  7.9561e-04,  ..., -1.0301e-20,\n",
      "          2.2205e-16,  1.0000e+00],\n",
      "        [-9.4279e-04, -2.0534e-03,  7.9561e-04,  ...,  2.2345e-06,\n",
      "         -1.0257e-03,  1.0000e+00],\n",
      "        [-8.9999e-04, -2.0000e-03,  7.9759e-04,  ...,  6.3009e-07,\n",
      "          1.1856e-03,  1.0000e+00],\n",
      "        ...,\n",
      "        [-1.0336e-03, -2.1714e-03,  8.0746e-04,  ...,  8.5688e-07,\n",
      "         -5.4731e-04,  1.0000e+00],\n",
      "        [-9.3710e-04, -2.0472e-03,  8.1167e-04,  ...,  1.1224e-06,\n",
      "          1.4368e-03,  1.0000e+00],\n",
      "        [-8.6236e-04, -1.9506e-03,  8.0836e-04,  ...,  6.6636e-06,\n",
      "         -1.8158e-03,  1.0000e+00]]), energy=107315904.0, particle_charges=tensor([5.0000e-18, 5.0000e-18, 5.0000e-18,  ..., 5.0000e-18, 5.0000e-18,\n",
      "        5.0000e-18]), survival_probabilities=tensor([1., 1., 1.,  ..., 1., 1., 1.]), s=2.0460398197174072, species=Species(name='electron', num_elementary_charges=tensor(-1), mass_eV=tensor(510998.9375)))\n"
     ]
    },
    {
     "data": {
      "image/png": "[encoded data removed]",
      "text/plain": [
       "<Figure size 640x480 with 1 Axes>"
      ]
     },
     "metadata": {},
     "output_type": "display_data"
    }
   ],
   "source": [
    "outgoing = segment.track(particle_beam)\n",
    "img = segment.AREABSCR1.reading\n",
    "\n",
    "print(outgoing)  # Should be an empty beam because it is blocked by the screen\n",
    "\n",
    "plt.imshow(img.numpy(), extent=segment.AREABSCR1.extent.numpy())\n",
    "plt.show()"
   ]
  },
  {
   "cell_type": "code",
   "execution_count": null,
   "metadata": {},
   "outputs": [],
   "source": []
  }
 ],
 "metadata": {
  "kernelspec": {
   "display_name": "cheetah-demos",
   "language": "python",
   "name": "python3"
  },
  "language_info": {
   "codemirror_mode": {
    "name": "ipython",
    "version": 3
   },
   "file_extension": ".py",
   "mimetype": "text/x-python",
   "name": "python",
   "nbconvert_exporter": "python",
   "pygments_lexer": "ipython3",
   "version": "3.13.5"
  }
 },
 "nbformat": 4,
 "nbformat_minor": 4
}
