{
    "cells": [
        {
            "cell_type": "code",
            "execution_count": 1,
            "metadata": {},
            "outputs": [
                {
                    "name": "stderr",
                    "output_type": "stream",
                    "text": [
                        "/opt/homebrew/Caskroom/miniforge/base/envs/cheetah-demos/lib/python3.9/site-packages/ocelot/cpbd/beam.py:1567: NumbaDeprecationWarning: The 'nopython' keyword argument was not supplied to the 'numba.jit' decorator. The implicit default value for this argument is currently False, but it will be changed to True in Numba 0.59.0. See https://numba.readthedocs.io/en/stable/reference/deprecation.html#deprecation-of-object-mode-fall-back-behaviour-when-using-jit for details.\n",
                        "  slice_analysis = slice_analysis_py if not nb_flag else nb.jit(slice_analysis_py)\n",
                        "/opt/homebrew/Caskroom/miniforge/base/envs/cheetah-demos/lib/python3.9/site-packages/ocelot/cpbd/tm_utils.py:153: NumbaDeprecationWarning: The 'nopython' keyword argument was not supplied to the 'numba.jit' decorator. The implicit default value for this argument is currently False, but it will be changed to True in Numba 0.59.0. See https://numba.readthedocs.io/en/stable/reference/deprecation.html#deprecation-of-object-mode-fall-back-behaviour-when-using-jit for details.\n",
                        "  transfer_maps_mult = transfer_maps_mult_py if nb_flag is not True else nb.jit(transfer_maps_mult_py)\n",
                        "/opt/homebrew/Caskroom/miniforge/base/envs/cheetah-demos/lib/python3.9/site-packages/ocelot/cpbd/high_order.py:941: NumbaDeprecationWarning: The 'nopython' keyword argument was not supplied to the 'numba.jit' decorator. The implicit default value for this argument is currently False, but it will be changed to True in Numba 0.59.0. See https://numba.readthedocs.io/en/stable/reference/deprecation.html#deprecation-of-object-mode-fall-back-behaviour-when-using-jit for details.\n",
                        "  moments = moments_py if not nb_flag else nb.jit(moments_py)\n",
                        "/opt/homebrew/Caskroom/miniforge/base/envs/cheetah-demos/lib/python3.9/site-packages/ocelot/cpbd/elements/undulator_atom.py:58: NumbaDeprecationWarning: The 'nopython' keyword argument was not supplied to the 'numba.jit' decorator. The implicit default value for this argument is currently False, but it will be changed to True in Numba 0.59.0. See https://numba.readthedocs.io/en/stable/reference/deprecation.html#deprecation-of-object-mode-fall-back-behaviour-when-using-jit for details.\n",
                        "  und_field = und_field_py if not nb_flag else nb.jit(forceobj=False)(und_field_py)\n",
                        "/opt/homebrew/Caskroom/miniforge/base/envs/cheetah-demos/lib/python3.9/site-packages/ocelot/rad/radiation_py.py:434: NumbaDeprecationWarning: The 'nopython' keyword argument was not supplied to the 'numba.jit' decorator. The implicit default value for this argument is currently False, but it will be changed to True in Numba 0.59.0. See https://numba.readthedocs.io/en/stable/reference/deprecation.html#deprecation-of-object-mode-fall-back-behaviour-when-using-jit for details.\n",
                        "  gintegrator_over_traj = gintegrator_over_traj_py if not nb_flag else nb.jit(gintegrator_over_traj_py)\n",
                        "[INFO    ] \u001b[0mcsr.py: module PYFFTW is not installed. Install it to speed up calculation.\u001b[0m\n",
                        "/opt/homebrew/Caskroom/miniforge/base/envs/cheetah-demos/lib/python3.9/site-packages/ocelot/cpbd/wake3D.py:80: NumbaDeprecationWarning: The 'nopython' keyword argument was not supplied to the 'numba.jit' decorator. The implicit default value for this argument is currently False, but it will be changed to True in Numba 0.59.0. See https://numba.readthedocs.io/en/stable/reference/deprecation.html#deprecation-of-object-mode-fall-back-behaviour-when-using-jit for details.\n",
                        "  project_on_grid = project_on_grid_py if not nb_flag else nb.jit(project_on_grid_py)\n"
                    ]
                },
                {
                    "name": "stdout",
                    "output_type": "stream",
                    "text": [
                        "initializing ocelot...\n",
                        "import: module PYFFTW is not installed. Install it to speed up calculation\n"
                    ]
                }
            ],
            "source": [
                "import ARESlatticeStage3v1_9 as ares\n",
                "import cheetah\n",
                "import matplotlib.pyplot as plt\n",
                "import torch"
            ]
        },
        {
            "cell_type": "markdown",
            "metadata": {},
            "source": [
                "### Loading the lattice\n",
                "\n",
                "The lattice is available in Ocelot's format, so we use the `from_ocelot` class method of `Segement`. Because we only care about the Experimental Area (EA), we then select a subcell of the lattice file of the entire ARES accelerator.\n",
                "\n",
                "Unlike Cheetah, Ocelot does not support screens. Therefore, when Oceloet `Marker`s have the substiring `\"screen\"` in their name, Cheetah creates a `Screen` element with default properties and emits a warning about this. We can than manually set the correct screen properties.\n"
            ]
        },
        {
            "cell_type": "code",
            "execution_count": 2,
            "metadata": {},
            "outputs": [
                {
                    "data": {
                        "text/plain": [
                            "Segment(elements=ModuleList(\n",
                            "  (0): Marker(name='AREASOLA1')\n",
                            "  (1): Drift(length=tensor(0.1750))\n",
                            "  (2): Quadrupole(length=tensor(0.1220), k1=tensor(10.), misalignment=tensor([0., 0.]), tilt=tensor(0.), name='AREAMQZM1')\n",
                            "  (3): Drift(length=tensor(0.4280))\n",
                            "  (4): Quadrupole(length=tensor(0.1220), k1=tensor(-9.), misalignment=tensor([0., 0.]), tilt=tensor(0.), name='AREAMQZM2')\n",
                            "  (5): Drift(length=tensor(0.2040))\n",
                            "  (6): VerticalCorrector(length=tensor(0.0200), angle=tensor(0.0010), name='AREAMCVM1')\n",
                            "  (7): Drift(length=tensor(0.2040))\n",
                            "  (8): Quadrupole(length=tensor(0.1220), k1=tensor(-8.), misalignment=tensor([0., 0.]), tilt=tensor(0.), name='AREAMQZM3')\n",
                            "  (9): Drift(length=tensor(0.1790))\n",
                            "  (10): HorizontalCorrector(length=tensor(0.0200), angle=tensor(-0.0020), name='AREAMCHM1')\n",
                            "  (11): Drift(length=tensor(0.4500))\n",
                            "  (12): Screen(resolution=tensor([2448., 2040.]), pixel_size=tensor([3.3198e-06, 2.4469e-06]), binning=tensor(1), misalignment=tensor([0., 0.]), is_active=False, name='AREABSCR1')\n",
                            "), name='unnamed')"
                        ]
                    },
                    "execution_count": 2,
                    "metadata": {},
                    "output_type": "execute_result"
                }
            ],
            "source": [
                "segment = cheetah.Segment.from_ocelot(ares.cell, warnings=False).subcell(\n",
                "    \"AREASOLA1\", \"AREABSCR1\"\n",
                ")\n",
                "\n",
                "# Manually set screen properties\n",
                "segment.AREABSCR1.resolution = torch.tensor((2448, 2040), dtype=torch.float32)\n",
                "segment.AREABSCR1.pixel_size = torch.tensor((3.3198e-6, 2.4469e-6), dtype=torch.float32)\n",
                "\n",
                "# Set some values on the magnets\n",
                "segment.AREAMQZM1.k1 = torch.tensor(10.0, dtype=torch.float32)\n",
                "segment.AREAMQZM2.k1 = torch.tensor(-9.0, dtype=torch.float32)\n",
                "segment.AREAMCVM1.angle = torch.tensor(1e-3, dtype=torch.float32)\n",
                "segment.AREAMQZM3.k1 = torch.tensor(-8.0, dtype=torch.float32)\n",
                "segment.AREAMCHM1.angle = torch.tensor(-2e-3, dtype=torch.float32)\n",
                "\n",
                "segment"
            ]
        },
        {
            "cell_type": "markdown",
            "metadata": {},
            "source": [
                "### Load particle distribution\n",
                "\n",
                "We load the beam both as a `ParameterBeam` and a `ParticleBeam` in order to test Cheetah's speed in both its fastest as well as its full particle tracking mode.\n"
            ]
        },
        {
            "cell_type": "code",
            "execution_count": 3,
            "metadata": {},
            "outputs": [
                {
                    "data": {
                        "text/plain": [
                            "ParameterBeam(mu_x=tensor(8.2413e-07), mu_xp=tensor(5.9885e-08), mu_y=tensor(-1.7276e-06), mu_yp=tensor(-1.1746e-07), sigma_x=tensor(0.0002), sigma_xp=tensor(3.6794e-06), sigma_y=tensor(0.0002), sigma_yp=tensor(3.6941e-06), sigma_s=tensor(8.0116e-06), sigma_p=tensor(0.0023), energy=tensor(1.0732e+08)), total_charge=tensor(5.0000e-13))"
                        ]
                    },
                    "execution_count": 3,
                    "metadata": {},
                    "output_type": "execute_result"
                }
            ],
            "source": [
                "parameter_beam = cheetah.ParameterBeam.from_astra(\n",
                "    \"ACHIP_EA1_2021.1351.001\", device=\"cpu\"\n",
                ")\n",
                "parameter_beam"
            ]
        },
        {
            "cell_type": "code",
            "execution_count": 4,
            "metadata": {},
            "outputs": [
                {
                    "data": {
                        "text/plain": [
                            "ParticleBeam(n=100000, mu_x=tensor(8.2413e-07), mu_xp=tensor(5.9885e-08), mu_y=tensor(-1.7276e-06), mu_yp=tensor(-1.1746e-07), sigma_x=tensor(0.0002), sigma_xp=tensor(3.6794e-06), sigma_y=tensor(0.0002), sigma_yp=tensor(3.6941e-06), sigma_s=tensor(8.0116e-06), sigma_p=tensor(0.0023), energy=tensor(1.0732e+08)) total_charge=tensor(5.0000e-13))"
                        ]
                    },
                    "execution_count": 4,
                    "metadata": {},
                    "output_type": "execute_result"
                }
            ],
            "source": [
                "particle_beam = cheetah.ParticleBeam.from_astra(\"ACHIP_EA1_2021.1351.001\", device=\"cpu\")\n",
                "particle_beam"
            ]
        },
        {
            "cell_type": "markdown",
            "metadata": {},
            "source": [
                "### Benchmark\n",
                "\n",
                "We first start with a simple benchmark just tracking particles.\n"
            ]
        },
        {
            "cell_type": "code",
            "execution_count": 5,
            "metadata": {},
            "outputs": [],
            "source": [
                "optimized_segment = segment.transfer_maps_merged(incoming_beam=particle_beam)"
            ]
        },
        {
            "cell_type": "markdown",
            "metadata": {},
            "source": [
                "#### Parameter Beam\n"
            ]
        },
        {
            "cell_type": "code",
            "execution_count": 6,
            "metadata": {},
            "outputs": [],
            "source": [
                "segment.AREABSCR1.is_active = False"
            ]
        },
        {
            "cell_type": "code",
            "execution_count": 7,
            "metadata": {},
            "outputs": [
                {
                    "name": "stdout",
                    "output_type": "stream",
                    "text": [
                        "758 µs ± 1.67 µs per loop (mean ± std. dev. of 7 runs, 1,000 loops each)\n"
                    ]
                }
            ],
            "source": [
                "%%timeit\n",
                "outgoing = segment.track(parameter_beam)"
            ]
        },
        {
            "cell_type": "code",
            "execution_count": 8,
            "metadata": {},
            "outputs": [
                {
                    "name": "stdout",
                    "output_type": "stream",
                    "text": [
                        "21.1 µs ± 30.6 ns per loop (mean ± std. dev. of 7 runs, 10,000 loops each)\n"
                    ]
                }
            ],
            "source": [
                "%%timeit\n",
                "outgoing = optimized_segment.track(parameter_beam)"
            ]
        },
        {
            "cell_type": "code",
            "execution_count": 9,
            "metadata": {},
            "outputs": [
                {
                    "data": {
                        "text/plain": [
                            "ParameterBeam(mu_x=tensor(-0.0009), mu_xp=tensor(-0.0020), mu_y=tensor(0.0008), mu_yp=tensor(0.0007), sigma_x=tensor(0.0001), sigma_xp=tensor(0.0001), sigma_y=tensor(9.2004e-06), sigma_yp=tensor(0.0003), sigma_s=tensor(7.9948e-06), sigma_p=tensor(0.0023), energy=tensor(1.0732e+08)), total_charge=tensor(5.0000e-13))"
                        ]
                    },
                    "execution_count": 9,
                    "metadata": {},
                    "output_type": "execute_result"
                }
            ],
            "source": [
                "outgoing = segment.track(parameter_beam)\n",
                "outgoing"
            ]
        },
        {
            "cell_type": "markdown",
            "metadata": {},
            "source": [
                "We continue with a benchmark tracking particles and then reading the screen.\n"
            ]
        },
        {
            "cell_type": "code",
            "execution_count": 10,
            "metadata": {},
            "outputs": [],
            "source": [
                "segment.AREABSCR1.is_active = True"
            ]
        },
        {
            "cell_type": "code",
            "execution_count": 11,
            "metadata": {},
            "outputs": [
                {
                    "name": "stdout",
                    "output_type": "stream",
                    "text": [
                        "29.1 ms ± 113 µs per loop (mean ± std. dev. of 7 runs, 10 loops each)\n"
                    ]
                }
            ],
            "source": [
                "%%timeit\n",
                "outgoing = segment.track(parameter_beam)\n",
                "img = segment.AREABSCR1.reading"
            ]
        },
        {
            "cell_type": "code",
            "execution_count": 12,
            "metadata": {},
            "outputs": [
                {
                    "name": "stdout",
                    "output_type": "stream",
                    "text": [
                        "I'm an empty beam!\n"
                    ]
                },
                {
                    "data": {
                        "image/png": "[encoded data removed]",
                        "text/plain": [
                            "<Figure size 640x480 with 1 Axes>"
                        ]
                    },
                    "metadata": {},
                    "output_type": "display_data"
                }
            ],
            "source": [
                "outgoing = segment.track(parameter_beam)\n",
                "img = segment.AREABSCR1.reading\n",
                "\n",
                "print(outgoing)  # Should be an empty beam because it is blocked by the screen\n",
                "\n",
                "plt.imshow(img.numpy(), extent=segment.AREABSCR1.extent.numpy())\n",
                "plt.show()"
            ]
        },
        {
            "cell_type": "markdown",
            "metadata": {},
            "source": [
                "#### Particle Beam\n"
            ]
        },
        {
            "cell_type": "code",
            "execution_count": 13,
            "metadata": {},
            "outputs": [],
            "source": [
                "segment.AREABSCR1.is_active = False"
            ]
        },
        {
            "cell_type": "code",
            "execution_count": 14,
            "metadata": {},
            "outputs": [
                {
                    "name": "stdout",
                    "output_type": "stream",
                    "text": [
                        "1.6 ms ± 27.4 µs per loop (mean ± std. dev. of 7 runs, 1,000 loops each)\n"
                    ]
                }
            ],
            "source": [
                "%%timeit\n",
                "outgoing = segment.track(particle_beam)"
            ]
        },
        {
            "cell_type": "code",
            "execution_count": 15,
            "metadata": {},
            "outputs": [
                {
                    "name": "stdout",
                    "output_type": "stream",
                    "text": [
                        "786 µs ± 18.2 µs per loop (mean ± std. dev. of 7 runs, 1,000 loops each)\n"
                    ]
                }
            ],
            "source": [
                "%%timeit\n",
                "outgoing = optimized_segment.track(particle_beam)"
            ]
        },
        {
            "cell_type": "code",
            "execution_count": 16,
            "metadata": {},
            "outputs": [
                {
                    "data": {
                        "text/plain": [
                            "ParticleBeam(n=100000, mu_x=tensor(-0.0009), mu_xp=tensor(-0.0020), mu_y=tensor(0.0008), mu_yp=tensor(0.0007), sigma_x=tensor(0.0001), sigma_xp=tensor(0.0001), sigma_y=tensor(9.2004e-06), sigma_yp=tensor(0.0003), sigma_s=tensor(7.9948e-06), sigma_p=tensor(0.0023), energy=tensor(1.0732e+08)) total_charge=tensor(5.0000e-13))"
                        ]
                    },
                    "execution_count": 16,
                    "metadata": {},
                    "output_type": "execute_result"
                }
            ],
            "source": [
                "outgoing = segment(particle_beam)\n",
                "outgoing"
            ]
        },
        {
            "cell_type": "markdown",
            "metadata": {},
            "source": [
                "We continue with a benchmark tracking particles and then reading the screen.\n"
            ]
        },
        {
            "cell_type": "code",
            "execution_count": 17,
            "metadata": {},
            "outputs": [],
            "source": [
                "segment.AREABSCR1.is_active = True"
            ]
        },
        {
            "cell_type": "code",
            "execution_count": 18,
            "metadata": {},
            "outputs": [
                {
                    "name": "stdout",
                    "output_type": "stream",
                    "text": [
                        "15.8 ms ± 62.1 µs per loop (mean ± std. dev. of 7 runs, 100 loops each)\n"
                    ]
                }
            ],
            "source": [
                "%%timeit\n",
                "outgoing = segment.track(particle_beam)\n",
                "img = segment.AREABSCR1.reading"
            ]
        },
        {
            "cell_type": "code",
            "execution_count": 19,
            "metadata": {},
            "outputs": [
                {
                    "name": "stdout",
                    "output_type": "stream",
                    "text": [
                        "I'm an empty beam!\n"
                    ]
                },
                {
                    "data": {
                        "image/png": "[encoded data removed]",
                        "text/plain": [
                            "<Figure size 640x480 with 1 Axes>"
                        ]
                    },
                    "metadata": {},
                    "output_type": "display_data"
                }
            ],
            "source": [
                "outgoing = segment.track(particle_beam)\n",
                "img = segment.AREABSCR1.reading\n",
                "\n",
                "print(outgoing)  # Should be an empty beam because it is blocked by the screen\n",
                "\n",
                "plt.imshow(img.numpy(), extent=segment.AREABSCR1.extent.numpy())\n",
                "plt.show()"
            ]
        },
        {
            "cell_type": "code",
            "execution_count": null,
            "metadata": {},
            "outputs": [],
            "source": []
        }
    ],
    "metadata": {
        "kernelspec": {
            "display_name": "cheetah-demos",
            "language": "python",
            "name": "python3"
        },
        "language_info": {
            "codemirror_mode": {
                "name": "ipython",
                "version": 3
            },
            "file_extension": ".py",
            "mimetype": "text/x-python",
            "name": "python",
            "nbconvert_exporter": "python",
            "pygments_lexer": "ipython3",
            "version": "3.9.18"
        }
    },
    "nbformat": 4,
    "nbformat_minor": 4
}
