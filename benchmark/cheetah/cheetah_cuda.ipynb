{
 "cells": [
  {
   "cell_type": "code",
   "execution_count": 1,
   "metadata": {},
   "outputs": [],
   "source": [
    "import matplotlib.pyplot as plt\n",
    "\n",
    "import ARESlatticeStage3v1_9 as ares\n",
    "import cheetah"
   ]
  },
  {
   "cell_type": "markdown",
   "metadata": {},
   "source": [
    "### Loading the lattice\n",
    "\n",
    "The lattice is available in Ocelot's format, so we use the `from_ocelot` class method of `Segement`. Because we only care about the Experimental Area (EA), we then select a subcell of the lattice file of the entire ARES accelerator.\n",
    "\n",
    "Unlike Cheetah, Ocelot does not support screens. Therefore, when Oceloet `Marker`s have the substiring `\"screen\"` in their name, Cheetah creates a `Screen` element with default properties and emits a warning about this. We can than manually set the correct screen properties."
   ]
  },
  {
   "cell_type": "code",
   "execution_count": 2,
   "metadata": {},
   "outputs": [
    {
     "data": {
      "text/plain": [
       "Segment([Drift(length=0.00, name=\"AREASOLA1\"), Drift(length=0.18, name=\"Drift_AREASOLA1\"), Quadrupole(length=0.12, k1=10.0, misalignment=(0, 0), name=\"AREAMQZM1\"), Drift(length=0.43, name=\"Drift_AREAMQZM1\"), Quadrupole(length=0.12, k1=-9.0, misalignment=(0, 0), name=\"AREAMQZM2\"), Drift(length=0.20, name=\"Drift_AREAMQZM2\"), VerticalCorrector(length=0.02, angle=0.001, name=\"AREAMCVM1\"), Drift(length=0.20, name=\"Drift_AREAMCVM1\"), Quadrupole(length=0.12, k1=-8.0, misalignment=(0, 0), name=\"AREAMQZM3\"), Drift(length=0.18, name=\"Drift_AREAMQZM3\"), HorizontalCorrector(length=0.02, angle=-0.002, name=\"AREAMCHM1\"), Drift(length=0.45, name=\"Drift_AREAMCHM1\"), Screen(resolution=(2448, 2040), pixel_size=(3.3198e-06, 2.4469e-06), binning=1, misalignment=(0, 0), name=\"AREABSCR1\")])"
      ]
     },
     "execution_count": 2,
     "metadata": {},
     "output_type": "execute_result"
    }
   ],
   "source": [
    "segment = cheetah.Segment.from_ocelot(ares.cell, warnings=False, device=\"cuda\").subcell(\"AREASOLA1\", \"AREABSCR1\")\n",
    "\n",
    "# Manually set screen properties\n",
    "segment.AREABSCR1.resolution = (2448, 2040)\n",
    "segment.AREABSCR1.pixel_size = (3.3198e-6, 2.4469e-6)\n",
    "\n",
    "# Set some values on the magnets\n",
    "segment.AREAMQZM1.k1 = 10.0\n",
    "segment.AREAMQZM2.k1 = -9.0\n",
    "segment.AREAMCVM1.angle = 1e-3\n",
    "segment.AREAMQZM3.k1 = -8.0\n",
    "segment.AREAMCHM1.angle = -2e-3\n",
    "\n",
    "segment"
   ]
  },
  {
   "cell_type": "markdown",
   "metadata": {},
   "source": [
    "### Load particle distribution\n",
    "\n",
    "We load the beam both as a `ParticleBeam` because only full particle tracking can take advantage of a GPU."
   ]
  },
  {
   "cell_type": "code",
   "execution_count": 4,
   "metadata": {},
   "outputs": [
    {
     "data": {
      "text/plain": [
       "ParticleBeam(n=100000, mu_x=0.000001, mu_xp=0.000000, mu_y=-0.000002, mu_yp=-0.000000, sigma_x=0.000175, sigma_xp=0.000004, sigma_y=0.000175, sigma_yp=0.000004, sigma_s=0.000008, sigma_p=0.002280, energy=107315902.444)"
      ]
     },
     "execution_count": 4,
     "metadata": {},
     "output_type": "execute_result"
    }
   ],
   "source": [
    "particle_beam = cheetah.ParticleBeam.from_astra(\"ACHIP_EA1_2021.1351.001\", device=\"cuda\")\n",
    "particle_beam"
   ]
  },
  {
   "cell_type": "markdown",
   "metadata": {},
   "source": [
    "### Benchmark\n",
    "We first start with a simple benchmark just tracking particles."
   ]
  },
  {
   "cell_type": "markdown",
   "metadata": {},
   "source": [
    "#### Particle Beam"
   ]
  },
  {
   "cell_type": "code",
   "execution_count": 11,
   "metadata": {},
   "outputs": [],
   "source": [
    "segment.AREABSCR1.is_active = False"
   ]
  },
  {
   "cell_type": "code",
   "execution_count": 12,
   "metadata": {},
   "outputs": [
    {
     "name": "stdout",
     "output_type": "stream",
     "text": [
      "737 µs ± 96.9 µs per loop (mean ± std. dev. of 7 runs, 1000 loops each)\n"
     ]
    }
   ],
   "source": [
    "%%timeit\n",
    "outgoing = segment(particle_beam)"
   ]
  },
  {
   "cell_type": "code",
   "execution_count": 13,
   "metadata": {},
   "outputs": [
    {
     "data": {
      "text/plain": [
       "ParticleBeam(n=100000, mu_x=-0.000900, mu_xp=-0.002001, mu_y=0.000796, mu_yp=0.000749, sigma_x=0.000117, sigma_xp=0.000148, sigma_y=0.000009, sigma_yp=0.000332, sigma_s=0.000008, sigma_p=0.002280, energy=107315902.444)"
      ]
     },
     "execution_count": 13,
     "metadata": {},
     "output_type": "execute_result"
    }
   ],
   "source": [
    "outgoing = segment(particle_beam)\n",
    "outgoing"
   ]
  },
  {
   "cell_type": "markdown",
   "metadata": {},
   "source": [
    "We continue with a benchmark tracking particles and then reading the screen."
   ]
  },
  {
   "cell_type": "code",
   "execution_count": 14,
   "metadata": {},
   "outputs": [],
   "source": [
    "segment.AREABSCR1.is_active = True"
   ]
  },
  {
   "cell_type": "code",
   "execution_count": 16,
   "metadata": {},
   "outputs": [
    {
     "name": "stdout",
     "output_type": "stream",
     "text": [
      "55.1 ms ± 11.2 ms per loop (mean ± std. dev. of 7 runs, 10 loops each)\n"
     ]
    }
   ],
   "source": [
    "%%timeit\n",
    "outgoing = segment(particle_beam)\n",
    "img = segment.AREABSCR1.reading"
   ]
  },
  {
   "cell_type": "code",
   "execution_count": 17,
   "metadata": {},
   "outputs": [
    {
     "name": "stdout",
     "output_type": "stream",
     "text": [
      "I'm an empty beam!\n"
     ]
    },
    {
     "data": {
      "image/png": "[encoded data removed]",
      "text/plain": [
       "<Figure size 432x288 with 1 Axes>"
      ]
     },
     "metadata": {
      "needs_background": "light"
     },
     "output_type": "display_data"
    }
   ],
   "source": [
    "outgoing = segment(particle_beam)\n",
    "img = segment.AREABSCR1.reading\n",
    "\n",
    "print(outgoing) # Should be an empty beam because it is blocked by the screen\n",
    "\n",
    "plt.imshow(img, extent=segment.AREABSCR1.extent)\n",
    "plt.show()"
   ]
  },
  {
   "cell_type": "code",
   "execution_count": null,
   "metadata": {},
   "outputs": [],
   "source": []
  }
 ],
 "metadata": {
  "interpreter": {
   "hash": "c52a148f042e18d735c6c9f66b6910136f20093b56325d8390c2dc5c9d3fe4fb"
  },
  "kernelspec": {
   "display_name": "Python 3.9.7 ('rl39')",
   "language": "python",
   "name": "python3"
  },
  "language_info": {
   "codemirror_mode": {
    "name": "ipython",
    "version": 3
   },
   "file_extension": ".py",
   "mimetype": "text/x-python",
   "name": "python",
   "nbconvert_exporter": "python",
   "pygments_lexer": "ipython3",
   "version": "3.9.7"
  },
  "orig_nbformat": 4
 },
 "nbformat": 4,
 "nbformat_minor": 2
}
