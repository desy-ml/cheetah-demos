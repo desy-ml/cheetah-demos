{
 "cells": [
  {
   "cell_type": "code",
   "execution_count": 1,
   "metadata": {},
   "outputs": [
    {
     "name": "stderr",
     "output_type": "stream",
     "text": [
      "/opt/homebrew/Caskroom/miniforge/base/envs/cheetah-demos/lib/python3.9/site-packages/ocelot/cpbd/beam.py:1567: NumbaDeprecationWarning: The 'nopython' keyword argument was not supplied to the 'numba.jit' decorator. The implicit default value for this argument is currently False, but it will be changed to True in Numba 0.59.0. See https://numba.readthedocs.io/en/stable/reference/deprecation.html#deprecation-of-object-mode-fall-back-behaviour-when-using-jit for details.\n",
      "  slice_analysis = slice_analysis_py if not nb_flag else nb.jit(slice_analysis_py)\n",
      "/opt/homebrew/Caskroom/miniforge/base/envs/cheetah-demos/lib/python3.9/site-packages/ocelot/cpbd/tm_utils.py:153: NumbaDeprecationWarning: The 'nopython' keyword argument was not supplied to the 'numba.jit' decorator. The implicit default value for this argument is currently False, but it will be changed to True in Numba 0.59.0. See https://numba.readthedocs.io/en/stable/reference/deprecation.html#deprecation-of-object-mode-fall-back-behaviour-when-using-jit for details.\n",
      "  transfer_maps_mult = transfer_maps_mult_py if nb_flag is not True else nb.jit(transfer_maps_mult_py)\n",
      "/opt/homebrew/Caskroom/miniforge/base/envs/cheetah-demos/lib/python3.9/site-packages/ocelot/cpbd/high_order.py:941: NumbaDeprecationWarning: The 'nopython' keyword argument was not supplied to the 'numba.jit' decorator. The implicit default value for this argument is currently False, but it will be changed to True in Numba 0.59.0. See https://numba.readthedocs.io/en/stable/reference/deprecation.html#deprecation-of-object-mode-fall-back-behaviour-when-using-jit for details.\n",
      "  moments = moments_py if not nb_flag else nb.jit(moments_py)\n",
      "/opt/homebrew/Caskroom/miniforge/base/envs/cheetah-demos/lib/python3.9/site-packages/ocelot/cpbd/elements/undulator_atom.py:58: NumbaDeprecationWarning: The 'nopython' keyword argument was not supplied to the 'numba.jit' decorator. The implicit default value for this argument is currently False, but it will be changed to True in Numba 0.59.0. See https://numba.readthedocs.io/en/stable/reference/deprecation.html#deprecation-of-object-mode-fall-back-behaviour-when-using-jit for details.\n",
      "  und_field = und_field_py if not nb_flag else nb.jit(forceobj=False)(und_field_py)\n",
      "/opt/homebrew/Caskroom/miniforge/base/envs/cheetah-demos/lib/python3.9/site-packages/ocelot/rad/radiation_py.py:434: NumbaDeprecationWarning: The 'nopython' keyword argument was not supplied to the 'numba.jit' decorator. The implicit default value for this argument is currently False, but it will be changed to True in Numba 0.59.0. See https://numba.readthedocs.io/en/stable/reference/deprecation.html#deprecation-of-object-mode-fall-back-behaviour-when-using-jit for details.\n",
      "  gintegrator_over_traj = gintegrator_over_traj_py if not nb_flag else nb.jit(gintegrator_over_traj_py)\n",
      "[INFO    ] \u001b[0mcsr.py: module PYFFTW is not installed. Install it to speed up calculation.\u001b[0m\n",
      "/opt/homebrew/Caskroom/miniforge/base/envs/cheetah-demos/lib/python3.9/site-packages/ocelot/cpbd/wake3D.py:80: NumbaDeprecationWarning: The 'nopython' keyword argument was not supplied to the 'numba.jit' decorator. The implicit default value for this argument is currently False, but it will be changed to True in Numba 0.59.0. See https://numba.readthedocs.io/en/stable/reference/deprecation.html#deprecation-of-object-mode-fall-back-behaviour-when-using-jit for details.\n",
      "  project_on_grid = project_on_grid_py if not nb_flag else nb.jit(project_on_grid_py)\n"
     ]
    },
    {
     "name": "stdout",
     "output_type": "stream",
     "text": [
      "initializing ocelot...\n",
      "import: module PYFFTW is not installed. Install it to speed up calculation\n"
     ]
    }
   ],
   "source": [
    "import ARESlatticeStage3v1_9 as ares\n",
    "import cheetah\n",
    "import matplotlib.pyplot as plt\n",
    "import torch"
   ]
  },
  {
   "cell_type": "markdown",
   "metadata": {},
   "source": [
    "### Loading the lattice\n",
    "\n",
    "The lattice is available in Ocelot's format, so we use the `from_ocelot` class method of `Segement`. Because we only care about the Experimental Area (EA), we then select a subcell of the lattice file of the entire ARES accelerator.\n",
    "\n",
    "Unlike Cheetah, Ocelot does not support screens. Therefore, when Oceloet `Marker`s have the substiring `\"screen\"` in their name, Cheetah creates a `Screen` element with default properties and emits a warning about this. We can than manually set the correct screen properties.\n"
   ]
  },
  {
   "cell_type": "code",
   "execution_count": 2,
   "metadata": {},
   "outputs": [
    {
     "ename": "AssertionError",
     "evalue": "Torch not compiled with CUDA enabled",
     "output_type": "error",
     "traceback": [
      "\u001b[0;31m---------------------------------------------------------------------------\u001b[0m",
      "\u001b[0;31mAssertionError\u001b[0m                            Traceback (most recent call last)",
      "Cell \u001b[0;32mIn[2], line 1\u001b[0m\n\u001b[0;32m----> 1\u001b[0m segment \u001b[38;5;241m=\u001b[39m \u001b[43mcheetah\u001b[49m\u001b[38;5;241;43m.\u001b[39;49m\u001b[43mSegment\u001b[49m\u001b[38;5;241;43m.\u001b[39;49m\u001b[43mfrom_ocelot\u001b[49m\u001b[43m(\u001b[49m\u001b[43mares\u001b[49m\u001b[38;5;241;43m.\u001b[39;49m\u001b[43mcell\u001b[49m\u001b[43m,\u001b[49m\u001b[43m \u001b[49m\u001b[43mwarnings\u001b[49m\u001b[38;5;241;43m=\u001b[39;49m\u001b[38;5;28;43;01mFalse\u001b[39;49;00m\u001b[43m,\u001b[49m\u001b[43m \u001b[49m\u001b[43mdevice\u001b[49m\u001b[38;5;241;43m=\u001b[39;49m\u001b[38;5;124;43m\"\u001b[39;49m\u001b[38;5;124;43mcuda\u001b[39;49m\u001b[38;5;124;43m\"\u001b[39;49m\u001b[43m)\u001b[49m\u001b[38;5;241m.\u001b[39msubcell(\n\u001b[1;32m      2\u001b[0m     \u001b[38;5;124m\"\u001b[39m\u001b[38;5;124mAREASOLA1\u001b[39m\u001b[38;5;124m\"\u001b[39m, \u001b[38;5;124m\"\u001b[39m\u001b[38;5;124mAREABSCR1\u001b[39m\u001b[38;5;124m\"\u001b[39m\n\u001b[1;32m      3\u001b[0m )\n\u001b[1;32m      5\u001b[0m \u001b[38;5;66;03m# Manually set screen properties\u001b[39;00m\n\u001b[1;32m      6\u001b[0m segment\u001b[38;5;241m.\u001b[39mAREABSCR1\u001b[38;5;241m.\u001b[39mresolution \u001b[38;5;241m=\u001b[39m torch\u001b[38;5;241m.\u001b[39mtensor(\n\u001b[1;32m      7\u001b[0m     [\u001b[38;5;241m2448\u001b[39m, \u001b[38;5;241m2040\u001b[39m], device\u001b[38;5;241m=\u001b[39msegment\u001b[38;5;241m.\u001b[39mAREABSCR1\u001b[38;5;241m.\u001b[39mresolution\u001b[38;5;241m.\u001b[39mdevice\n\u001b[1;32m      8\u001b[0m )\n",
      "File \u001b[0;32m/opt/homebrew/Caskroom/miniforge/base/envs/cheetah-demos/lib/python3.9/site-packages/cheetah/accelerator.py:2033\u001b[0m, in \u001b[0;36mSegment.from_ocelot\u001b[0;34m(cls, cell, name, warnings, device, dtype, **kwargs)\u001b[0m\n\u001b[1;32m   2016\u001b[0m \u001b[38;5;250m\u001b[39m\u001b[38;5;124;03m\"\"\"\u001b[39;00m\n\u001b[1;32m   2017\u001b[0m \u001b[38;5;124;03mTranslate an Ocelot cell to a Cheetah `Segment`.\u001b[39;00m\n\u001b[1;32m   2018\u001b[0m \n\u001b[0;32m   (...)\u001b[0m\n\u001b[1;32m   2029\u001b[0m \u001b[38;5;124;03m:return: Cheetah segment closely resembling the Ocelot cell.\u001b[39;00m\n\u001b[1;32m   2030\u001b[0m \u001b[38;5;124;03m\"\"\"\u001b[39;00m\n\u001b[1;32m   2031\u001b[0m \u001b[38;5;28;01mfrom\u001b[39;00m \u001b[38;5;21;01mcheetah\u001b[39;00m\u001b[38;5;21;01m.\u001b[39;00m\u001b[38;5;21;01mconverters\u001b[39;00m\u001b[38;5;21;01m.\u001b[39;00m\u001b[38;5;21;01mnocelot\u001b[39;00m \u001b[38;5;28;01mimport\u001b[39;00m ocelot2cheetah\n\u001b[0;32m-> 2033\u001b[0m converted \u001b[38;5;241m=\u001b[39m [\n\u001b[1;32m   2034\u001b[0m     ocelot2cheetah(element, warnings\u001b[38;5;241m=\u001b[39mwarnings, device\u001b[38;5;241m=\u001b[39mdevice, dtype\u001b[38;5;241m=\u001b[39mdtype)\n\u001b[1;32m   2035\u001b[0m     \u001b[38;5;28;01mfor\u001b[39;00m element \u001b[38;5;129;01min\u001b[39;00m cell\n\u001b[1;32m   2036\u001b[0m ]\n\u001b[1;32m   2037\u001b[0m \u001b[38;5;28;01mreturn\u001b[39;00m \u001b[38;5;28mcls\u001b[39m(converted, name\u001b[38;5;241m=\u001b[39mname, \u001b[38;5;241m*\u001b[39m\u001b[38;5;241m*\u001b[39mkwargs)\n",
      "File \u001b[0;32m/opt/homebrew/Caskroom/miniforge/base/envs/cheetah-demos/lib/python3.9/site-packages/cheetah/accelerator.py:2034\u001b[0m, in \u001b[0;36m<listcomp>\u001b[0;34m(.0)\u001b[0m\n\u001b[1;32m   2016\u001b[0m \u001b[38;5;250m\u001b[39m\u001b[38;5;124;03m\"\"\"\u001b[39;00m\n\u001b[1;32m   2017\u001b[0m \u001b[38;5;124;03mTranslate an Ocelot cell to a Cheetah `Segment`.\u001b[39;00m\n\u001b[1;32m   2018\u001b[0m \n\u001b[0;32m   (...)\u001b[0m\n\u001b[1;32m   2029\u001b[0m \u001b[38;5;124;03m:return: Cheetah segment closely resembling the Ocelot cell.\u001b[39;00m\n\u001b[1;32m   2030\u001b[0m \u001b[38;5;124;03m\"\"\"\u001b[39;00m\n\u001b[1;32m   2031\u001b[0m \u001b[38;5;28;01mfrom\u001b[39;00m \u001b[38;5;21;01mcheetah\u001b[39;00m\u001b[38;5;21;01m.\u001b[39;00m\u001b[38;5;21;01mconverters\u001b[39;00m\u001b[38;5;21;01m.\u001b[39;00m\u001b[38;5;21;01mnocelot\u001b[39;00m \u001b[38;5;28;01mimport\u001b[39;00m ocelot2cheetah\n\u001b[1;32m   2033\u001b[0m converted \u001b[38;5;241m=\u001b[39m [\n\u001b[0;32m-> 2034\u001b[0m     \u001b[43mocelot2cheetah\u001b[49m\u001b[43m(\u001b[49m\u001b[43melement\u001b[49m\u001b[43m,\u001b[49m\u001b[43m \u001b[49m\u001b[43mwarnings\u001b[49m\u001b[38;5;241;43m=\u001b[39;49m\u001b[43mwarnings\u001b[49m\u001b[43m,\u001b[49m\u001b[43m \u001b[49m\u001b[43mdevice\u001b[49m\u001b[38;5;241;43m=\u001b[39;49m\u001b[43mdevice\u001b[49m\u001b[43m,\u001b[49m\u001b[43m \u001b[49m\u001b[43mdtype\u001b[49m\u001b[38;5;241;43m=\u001b[39;49m\u001b[43mdtype\u001b[49m\u001b[43m)\u001b[49m\n\u001b[1;32m   2035\u001b[0m     \u001b[38;5;28;01mfor\u001b[39;00m element \u001b[38;5;129;01min\u001b[39;00m cell\n\u001b[1;32m   2036\u001b[0m ]\n\u001b[1;32m   2037\u001b[0m \u001b[38;5;28;01mreturn\u001b[39;00m \u001b[38;5;28mcls\u001b[39m(converted, name\u001b[38;5;241m=\u001b[39mname, \u001b[38;5;241m*\u001b[39m\u001b[38;5;241m*\u001b[39mkwargs)\n",
      "File \u001b[0;32m/opt/homebrew/Caskroom/miniforge/base/envs/cheetah-demos/lib/python3.9/site-packages/cheetah/converters/nocelot.py:33\u001b[0m, in \u001b[0;36mocelot2cheetah\u001b[0;34m(element, warnings, device, dtype)\u001b[0m\n\u001b[1;32m     27\u001b[0m     \u001b[38;5;28;01mraise\u001b[39;00m \u001b[38;5;167;01mImportError\u001b[39;00m(\n\u001b[1;32m     28\u001b[0m \u001b[38;5;250m        \u001b[39m\u001b[38;5;124;03m\"\"\"To use the ocelot2cheetah lattice converter, Ocelot must be first\u001b[39;00m\n\u001b[1;32m     29\u001b[0m \u001b[38;5;124;03m    installed, see https://github.com/ocelot-collab/ocelot \"\"\"\u001b[39;00m\n\u001b[1;32m     30\u001b[0m     )\n\u001b[1;32m     32\u001b[0m \u001b[38;5;28;01mif\u001b[39;00m \u001b[38;5;28misinstance\u001b[39m(element, ocelot\u001b[38;5;241m.\u001b[39mDrift):\n\u001b[0;32m---> 33\u001b[0m     \u001b[38;5;28;01mreturn\u001b[39;00m \u001b[43mcheetah\u001b[49m\u001b[38;5;241;43m.\u001b[39;49m\u001b[43mDrift\u001b[49m\u001b[43m(\u001b[49m\n\u001b[1;32m     34\u001b[0m \u001b[43m        \u001b[49m\u001b[43mlength\u001b[49m\u001b[38;5;241;43m=\u001b[39;49m\u001b[43mtorch\u001b[49m\u001b[38;5;241;43m.\u001b[39;49m\u001b[43mtensor\u001b[49m\u001b[43m(\u001b[49m\u001b[43melement\u001b[49m\u001b[38;5;241;43m.\u001b[39;49m\u001b[43ml\u001b[49m\u001b[43m,\u001b[49m\u001b[43m \u001b[49m\u001b[43mdtype\u001b[49m\u001b[38;5;241;43m=\u001b[39;49m\u001b[43mtorch\u001b[49m\u001b[38;5;241;43m.\u001b[39;49m\u001b[43mfloat32\u001b[49m\u001b[43m)\u001b[49m\u001b[43m,\u001b[49m\n\u001b[1;32m     35\u001b[0m \u001b[43m        \u001b[49m\u001b[43mname\u001b[49m\u001b[38;5;241;43m=\u001b[39;49m\u001b[43melement\u001b[49m\u001b[38;5;241;43m.\u001b[39;49m\u001b[43mid\u001b[49m\u001b[43m,\u001b[49m\n\u001b[1;32m     36\u001b[0m \u001b[43m        \u001b[49m\u001b[43mdevice\u001b[49m\u001b[38;5;241;43m=\u001b[39;49m\u001b[43mdevice\u001b[49m\u001b[43m,\u001b[49m\n\u001b[1;32m     37\u001b[0m \u001b[43m        \u001b[49m\u001b[43mdtype\u001b[49m\u001b[38;5;241;43m=\u001b[39;49m\u001b[43mdtype\u001b[49m\u001b[43m,\u001b[49m\n\u001b[1;32m     38\u001b[0m \u001b[43m    \u001b[49m\u001b[43m)\u001b[49m\n\u001b[1;32m     39\u001b[0m \u001b[38;5;28;01melif\u001b[39;00m \u001b[38;5;28misinstance\u001b[39m(element, ocelot\u001b[38;5;241m.\u001b[39mQuadrupole):\n\u001b[1;32m     40\u001b[0m     \u001b[38;5;28;01mreturn\u001b[39;00m cheetah\u001b[38;5;241m.\u001b[39mQuadrupole(\n\u001b[1;32m     41\u001b[0m         length\u001b[38;5;241m=\u001b[39mtorch\u001b[38;5;241m.\u001b[39mtensor(element\u001b[38;5;241m.\u001b[39ml, dtype\u001b[38;5;241m=\u001b[39mtorch\u001b[38;5;241m.\u001b[39mfloat32),\n\u001b[1;32m     42\u001b[0m         k1\u001b[38;5;241m=\u001b[39mtorch\u001b[38;5;241m.\u001b[39mtensor(element\u001b[38;5;241m.\u001b[39mk1, dtype\u001b[38;5;241m=\u001b[39mtorch\u001b[38;5;241m.\u001b[39mfloat32),\n\u001b[0;32m   (...)\u001b[0m\n\u001b[1;32m     45\u001b[0m         dtype\u001b[38;5;241m=\u001b[39mdtype,\n\u001b[1;32m     46\u001b[0m     )\n",
      "File \u001b[0;32m/opt/homebrew/Caskroom/miniforge/base/envs/cheetah-demos/lib/python3.9/site-packages/cheetah/accelerator.py:254\u001b[0m, in \u001b[0;36mDrift.__init__\u001b[0;34m(self, length, name, device, dtype)\u001b[0m\n\u001b[1;32m    251\u001b[0m factory_kwargs \u001b[38;5;241m=\u001b[39m {\u001b[38;5;124m\"\u001b[39m\u001b[38;5;124mdevice\u001b[39m\u001b[38;5;124m\"\u001b[39m: device, \u001b[38;5;124m\"\u001b[39m\u001b[38;5;124mdtype\u001b[39m\u001b[38;5;124m\"\u001b[39m: dtype}\n\u001b[1;32m    252\u001b[0m \u001b[38;5;28msuper\u001b[39m()\u001b[38;5;241m.\u001b[39m\u001b[38;5;21m__init__\u001b[39m(name\u001b[38;5;241m=\u001b[39mname)\n\u001b[0;32m--> 254\u001b[0m \u001b[38;5;28mself\u001b[39m\u001b[38;5;241m.\u001b[39mlength \u001b[38;5;241m=\u001b[39m \u001b[43mtorch\u001b[49m\u001b[38;5;241;43m.\u001b[39;49m\u001b[43mas_tensor\u001b[49m\u001b[43m(\u001b[49m\u001b[43mlength\u001b[49m\u001b[43m,\u001b[49m\u001b[43m \u001b[49m\u001b[38;5;241;43m*\u001b[39;49m\u001b[38;5;241;43m*\u001b[39;49m\u001b[43mfactory_kwargs\u001b[49m\u001b[43m)\u001b[49m\n",
      "File \u001b[0;32m/opt/homebrew/Caskroom/miniforge/base/envs/cheetah-demos/lib/python3.9/site-packages/torch/cuda/__init__.py:289\u001b[0m, in \u001b[0;36m_lazy_init\u001b[0;34m()\u001b[0m\n\u001b[1;32m    284\u001b[0m     \u001b[38;5;28;01mraise\u001b[39;00m \u001b[38;5;167;01mRuntimeError\u001b[39;00m(\n\u001b[1;32m    285\u001b[0m         \u001b[38;5;124m\"\u001b[39m\u001b[38;5;124mCannot re-initialize CUDA in forked subprocess. To use CUDA with \u001b[39m\u001b[38;5;124m\"\u001b[39m\n\u001b[1;32m    286\u001b[0m         \u001b[38;5;124m\"\u001b[39m\u001b[38;5;124mmultiprocessing, you must use the \u001b[39m\u001b[38;5;124m'\u001b[39m\u001b[38;5;124mspawn\u001b[39m\u001b[38;5;124m'\u001b[39m\u001b[38;5;124m start method\u001b[39m\u001b[38;5;124m\"\u001b[39m\n\u001b[1;32m    287\u001b[0m     )\n\u001b[1;32m    288\u001b[0m \u001b[38;5;28;01mif\u001b[39;00m \u001b[38;5;129;01mnot\u001b[39;00m \u001b[38;5;28mhasattr\u001b[39m(torch\u001b[38;5;241m.\u001b[39m_C, \u001b[38;5;124m\"\u001b[39m\u001b[38;5;124m_cuda_getDeviceCount\u001b[39m\u001b[38;5;124m\"\u001b[39m):\n\u001b[0;32m--> 289\u001b[0m     \u001b[38;5;28;01mraise\u001b[39;00m \u001b[38;5;167;01mAssertionError\u001b[39;00m(\u001b[38;5;124m\"\u001b[39m\u001b[38;5;124mTorch not compiled with CUDA enabled\u001b[39m\u001b[38;5;124m\"\u001b[39m)\n\u001b[1;32m    290\u001b[0m \u001b[38;5;28;01mif\u001b[39;00m _cudart \u001b[38;5;129;01mis\u001b[39;00m \u001b[38;5;28;01mNone\u001b[39;00m:\n\u001b[1;32m    291\u001b[0m     \u001b[38;5;28;01mraise\u001b[39;00m \u001b[38;5;167;01mAssertionError\u001b[39;00m(\n\u001b[1;32m    292\u001b[0m         \u001b[38;5;124m\"\u001b[39m\u001b[38;5;124mlibcudart functions unavailable. It looks like you have a broken build?\u001b[39m\u001b[38;5;124m\"\u001b[39m\n\u001b[1;32m    293\u001b[0m     )\n",
      "\u001b[0;31mAssertionError\u001b[0m: Torch not compiled with CUDA enabled"
     ]
    }
   ],
   "source": [
    "segment = cheetah.Segment.from_ocelot(ares.cell, warnings=False, device=\"cuda\").subcell(\n",
    "    \"AREASOLA1\", \"AREABSCR1\"\n",
    ")\n",
    "\n",
    "# Manually set screen properties\n",
    "segment.AREABSCR1.resolution = torch.tensor(\n",
    "    [2448, 2040], device=segment.AREABSCR1.resolution.device\n",
    ")\n",
    "segment.AREABSCR1.pixel_size = torch.tensor(\n",
    "    [3.3198e-6, 2.4469e-6],\n",
    "    device=segment.AREABSCR1.pixel_size.device,\n",
    "    dtype=segment.AREABSCR1.pixel_size.dtype,\n",
    ")\n",
    "\n",
    "# Set some values on the magnets\n",
    "segment.AREAMQZM1.k1 = torch.tensor(\n",
    "    10.0, device=segment.AREAMQZM1.k1.device, dtype=segment.AREAMQZM1.k1.dtype\n",
    ")\n",
    "segment.AREAMQZM2.k1 = torch.tensor(\n",
    "    -9.0, device=segment.AREAMQZM2.k1.device, dtype=segment.AREAMQZM2.k1.dtype\n",
    ")\n",
    "segment.AREAMCVM1.angle = torch.tensor(\n",
    "    1e-3, device=segment.AREAMCVM1.angle.device, dtype=segment.AREAMCVM1.angle.dtype\n",
    ")\n",
    "segment.AREAMQZM3.k1 = torch.tensor(\n",
    "    -8.0, device=segment.AREAMQZM3.k1.device, dtype=segment.AREAMQZM3.k1.dtype\n",
    ")\n",
    "segment.AREAMCHM1.angle = torch.tensor(\n",
    "    -2e-3, device=segment.AREAMCHM1.angle.device, dtype=segment.AREAMCHM1.angle.dtype\n",
    ")\n",
    "\n",
    "segment"
   ]
  },
  {
   "cell_type": "markdown",
   "metadata": {},
   "source": [
    "### Load particle distribution\n",
    "\n",
    "We load the beam both as a `ParticleBeam` because only full particle tracking can take advantage of a GPU.\n"
   ]
  },
  {
   "cell_type": "code",
   "execution_count": null,
   "metadata": {},
   "outputs": [
    {
     "data": {
      "text/plain": [
       "ParticleBeam(n=100000, mu_x=tensor(8.2413e-07, device='cuda:0'), mu_xp=tensor(5.9885e-08, device='cuda:0'), mu_y=tensor(-1.7276e-06, device='cuda:0'), mu_yp=tensor(-1.1746e-07, device='cuda:0'), sigma_x=tensor(0.0002, device='cuda:0'), sigma_xp=tensor(3.6794e-06, device='cuda:0'), sigma_y=tensor(0.0002, device='cuda:0'), sigma_yp=tensor(3.6941e-06, device='cuda:0'), sigma_s=tensor(8.0116e-06, device='cuda:0'), sigma_p=tensor(0.0023, device='cuda:0'), energy=tensor(1.0732e+08, device='cuda:0')) total_charge=tensor(5.0000e-13, device='cuda:0'))"
      ]
     },
     "execution_count": 3,
     "metadata": {},
     "output_type": "execute_result"
    }
   ],
   "source": [
    "particle_beam = cheetah.ParticleBeam.from_astra(\n",
    "    \"ACHIP_EA1_2021.1351.001\", device=\"cuda\"\n",
    ")\n",
    "particle_beam"
   ]
  },
  {
   "cell_type": "code",
   "execution_count": null,
   "metadata": {},
   "outputs": [],
   "source": [
    "parameters = particle_beam.parameters\n",
    "parameters[\"num_particles\"] = 10_000_000\n",
    "particle_beam_10m = cheetah.ParticleBeam.from_parameters(**parameters)\n",
    "particle_beam_10m"
   ]
  },
  {
   "cell_type": "markdown",
   "metadata": {},
   "source": [
    "### Benchmark\n",
    "\n",
    "We first start with a simple benchmark just tracking particles.\n"
   ]
  },
  {
   "cell_type": "code",
   "execution_count": null,
   "metadata": {},
   "outputs": [],
   "source": [
    "optimized_segment = segment.transfer_maps_merged(incoming_beam=particle_beam)"
   ]
  },
  {
   "cell_type": "markdown",
   "metadata": {},
   "source": [
    "#### Particle Beam\n"
   ]
  },
  {
   "cell_type": "code",
   "execution_count": null,
   "metadata": {},
   "outputs": [],
   "source": [
    "segment.AREABSCR1.is_active = False"
   ]
  },
  {
   "cell_type": "code",
   "execution_count": null,
   "metadata": {},
   "outputs": [
    {
     "name": "stdout",
     "output_type": "stream",
     "text": [
      "4.43 ms ± 79.1 µs per loop (mean ± std. dev. of 7 runs, 1 loop each)\n"
     ]
    }
   ],
   "source": [
    "%%timeit\n",
    "outgoing = segment.track(particle_beam)"
   ]
  },
  {
   "cell_type": "code",
   "execution_count": null,
   "metadata": {},
   "outputs": [],
   "source": [
    "%%timeit\n",
    "outgoing = optimized_segment.track(particle_beam)"
   ]
  },
  {
   "cell_type": "code",
   "execution_count": null,
   "metadata": {},
   "outputs": [],
   "source": [
    "%%timeit\n",
    "outgoing = segment.track(particle_beam_10m)"
   ]
  },
  {
   "cell_type": "code",
   "execution_count": null,
   "metadata": {},
   "outputs": [],
   "source": [
    "%%timeit\n",
    "outgoing = optimized_segment.track(particle_beam_10m)"
   ]
  },
  {
   "cell_type": "code",
   "execution_count": null,
   "metadata": {},
   "outputs": [
    {
     "data": {
      "text/plain": [
       "ParticleBeam(n=100000, mu_x=tensor(-0.0009, device='cuda:0'), mu_xp=tensor(-0.0020, device='cuda:0'), mu_y=tensor(0.0008, device='cuda:0'), mu_yp=tensor(0.0007, device='cuda:0'), sigma_x=tensor(0.0001, device='cuda:0'), sigma_xp=tensor(0.0001, device='cuda:0'), sigma_y=tensor(9.2004e-06, device='cuda:0'), sigma_yp=tensor(0.0003, device='cuda:0'), sigma_s=tensor(7.9948e-06, device='cuda:0'), sigma_p=tensor(0.0023, device='cuda:0'), energy=tensor(1.0732e+08, device='cuda:0')) total_charge=tensor(5.0000e-13, device='cuda:0'))"
      ]
     },
     "execution_count": 6,
     "metadata": {},
     "output_type": "execute_result"
    }
   ],
   "source": [
    "outgoing = segment.track(particle_beam)\n",
    "outgoing"
   ]
  },
  {
   "cell_type": "markdown",
   "metadata": {},
   "source": [
    "We continue with a benchmark tracking particles and then reading the screen.\n"
   ]
  },
  {
   "cell_type": "code",
   "execution_count": null,
   "metadata": {},
   "outputs": [],
   "source": [
    "segment.AREABSCR1.is_active = True"
   ]
  },
  {
   "cell_type": "code",
   "execution_count": null,
   "metadata": {},
   "outputs": [
    {
     "name": "stdout",
     "output_type": "stream",
     "text": [
      "45.1 ms ± 622 µs per loop (mean ± std. dev. of 7 runs, 10 loops each)\n"
     ]
    }
   ],
   "source": [
    "%%timeit\n",
    "outgoing = segment.track(particle_beam)\n",
    "img = segment.AREABSCR1.reading"
   ]
  },
  {
   "cell_type": "code",
   "execution_count": null,
   "metadata": {},
   "outputs": [],
   "source": [
    "%%timeit\n",
    "outgoing = segment.track(particle_beam_10m)\n",
    "img = segment.AREABSCR1.reading"
   ]
  },
  {
   "cell_type": "code",
   "execution_count": null,
   "metadata": {},
   "outputs": [
    {
     "name": "stdout",
     "output_type": "stream",
     "text": [
      "I'm an empty beam!\n"
     ]
    },
    {
     "data": {
      "text/plain": [
       "<matplotlib.image.AxesImage at 0x2b8a009577c0>"
      ]
     },
     "execution_count": 9,
     "metadata": {},
     "output_type": "execute_result"
    },
    {
     "data": {
      "image/png": "[encoded data removed]",
      "text/plain": [
       "<Figure size 640x480 with 1 Axes>"
      ]
     },
     "metadata": {},
     "output_type": "display_data"
    }
   ],
   "source": [
    "outgoing = segment.track(particle_beam)\n",
    "img = segment.AREABSCR1.reading\n",
    "\n",
    "print(outgoing)  # Should be an empty beam because it is blocked by the screen\n",
    "\n",
    "plt.imshow(img.cpu().numpy(), extent=segment.AREABSCR1.extent.cpu().numpy())"
   ]
  },
  {
   "cell_type": "code",
   "execution_count": null,
   "metadata": {},
   "outputs": [],
   "source": []
  }
 ],
 "metadata": {
  "kernelspec": {
   "display_name": "cheetah-demos",
   "language": "python",
   "name": "python3"
  },
  "language_info": {
   "codemirror_mode": {
    "name": "ipython",
    "version": 3
   },
   "file_extension": ".py",
   "mimetype": "text/x-python",
   "name": "python",
   "nbconvert_exporter": "python",
   "pygments_lexer": "ipython3",
   "version": "3.9.18"
  }
 },
 "nbformat": 4,
 "nbformat_minor": 4
}
