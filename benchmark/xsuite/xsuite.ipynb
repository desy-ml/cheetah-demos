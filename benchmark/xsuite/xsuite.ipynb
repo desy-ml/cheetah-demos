{
 "cells": [
  {
   "cell_type": "code",
   "execution_count": 1,
   "metadata": {},
   "outputs": [
    {
     "name": "stderr",
     "output_type": "stream",
     "text": [
      "[INFO    ] \u001b[0mcsr.py: module PYFFTW is not installed. Install it to speed up calculation.\u001b[0m\n"
     ]
    },
    {
     "name": "stdout",
     "output_type": "stream",
     "text": [
      "initializing ocelot...\n",
      "import: module PYFFTW is not installed. Install it to speed up calculation\n"
     ]
    }
   ],
   "source": [
    "import ARESlatticeStage3v1_9 as ares\n",
    "import cheetah\n",
    "import xobjects as xo\n",
    "import xpart as xp\n",
    "import numpy as np\n",
    "import xtrack as xt\n",
    "from ocelot.adaptors.astra2ocelot import astraBeam2particleArray"
   ]
  },
  {
   "cell_type": "code",
   "execution_count": 2,
   "metadata": {},
   "outputs": [
    {
     "data": {
      "text/plain": [
       "Segment(elements=ModuleList(\n",
       "  (0): Marker(name='AREASOLA1')\n",
       "  (1): Drift(length=tensor(0.1750))\n",
       "  (2): Quadrupole(length=tensor(0.1220), k1=tensor(0.), misalignment=tensor([0., 0.]), tilt=tensor(0.), name='AREAMQZM1')\n",
       "  (3): Drift(length=tensor(0.4280))\n",
       "  (4): Quadrupole(length=tensor(0.1220), k1=tensor(0.), misalignment=tensor([0., 0.]), tilt=tensor(0.), name='AREAMQZM2')\n",
       "  (5): Drift(length=tensor(0.2040))\n",
       "  (6): VerticalCorrector(length=tensor(0.0200), angle=tensor(0.), name='AREAMCVM1')\n",
       "  (7): Drift(length=tensor(0.2040))\n",
       "  (8): Quadrupole(length=tensor(0.1220), k1=tensor(0.), misalignment=tensor([0., 0.]), tilt=tensor(0.), name='AREAMQZM3')\n",
       "  (9): Drift(length=tensor(0.1790))\n",
       "  (10): HorizontalCorrector(length=tensor(0.0200), angle=tensor(0.), name='AREAMCHM1')\n",
       "  (11): Drift(length=tensor(0.4500))\n",
       "  (12): Screen(resolution=tensor([2448, 2040]), pixel_size=tensor([3.5488e-06, 2.5003e-06]), binning=tensor(1), misalignment=tensor([0., 0.]), is_active=False, name='AREABSCR1')\n",
       "), name='unnamed')"
      ]
     },
     "execution_count": 2,
     "metadata": {},
     "output_type": "execute_result"
    }
   ],
   "source": [
    "segment = cheetah.Segment.from_ocelot(ares.cell, warnings=False).subcell(\n",
    "    \"AREASOLA1\", \"AREABSCR1\"\n",
    ")\n",
    "segment"
   ]
  },
  {
   "cell_type": "code",
   "execution_count": 3,
   "metadata": {},
   "outputs": [
    {
     "name": "stdout",
     "output_type": "stream",
     "text": [
      "Compiling ContextCpu kernels...\n",
      "Done compiling ContextCpu kernels.\n"
     ]
    },
    {
     "data": {
      "text/plain": [
       "<xtrack.tracker.Tracker at 0x2bab298c0520>"
      ]
     },
     "execution_count": 3,
     "metadata": {},
     "output_type": "execute_result"
    }
   ],
   "source": [
    "line = xt.Line(\n",
    "    elements=[\n",
    "        xt.Marker(),\n",
    "        xt.Drift(length=0.1750),\n",
    "        xt.Quadrupole(length=0.1220, k1=10.0),\n",
    "        xt.Drift(length=0.4280),\n",
    "        xt.Quadrupole(length=0.1220, k1=-9.0),\n",
    "        xt.Drift(length=0.2040),\n",
    "        xt.SimpleThinBend(length=0.0200, hxl=1e-3),\n",
    "        xt.Drift(length=0.2040),\n",
    "        xt.Quadrupole(length=0.1220, k1=-8.0),\n",
    "        xt.Drift(length=0.1790),\n",
    "        xt.SimpleThinBend(length=0.0200, hxl=-2e-3),\n",
    "        xt.Drift(length=0.4500),\n",
    "        xt.BeamPositionMonitor(),\n",
    "        xt.BeamSizeMonitor(),\n",
    "    ],\n",
    "    element_names=[element.name for element in segment.elements]\n",
    "    + [f\"{segment.elements[-1].name}_2\"],\n",
    ")\n",
    "\n",
    "# Choose a context\n",
    "context = xo.ContextCpu()  # For CPU\n",
    "# context = xo.ContextCupy()      # For CUDA GPUs\n",
    "\n",
    "# Transfer lattice on context and compile tracking code\n",
    "line.build_tracker(_context=context)"
   ]
  },
  {
   "cell_type": "code",
   "execution_count": 4,
   "metadata": {},
   "outputs": [
    {
     "name": "stdout",
     "output_type": "stream",
     "text": [
      "Astra to Ocelot: charge =  5.000000000001694e-13  C\n",
      "Astra to Ocelot: particles number =  100000\n",
      "Astra to Ocelot: energy =  0.10731590244355117  GeV\n",
      "Astra to Ocelot: s pos =  13.50890653269  m\n"
     ]
    },
    {
     "data": {
      "text/plain": [
       "Particles(_capacity=100000, _num_active_particles=100000, _num_lost_particles=0, start_tracking_at_element=-1, q0=-1.0, mass0=510998.9499961642, _p0c=[1.07314686e+08 1.07314686e+08 1.07314686e+08 ... 1.07314686e+08\n",
       " 1.07314686e+08 1.07314686e+08], _gamma0=[210.0119823 210.0119823 210.0119823 ... 210.0119823 210.0119823\n",
       " 210.0119823], _beta0=[0.99998866 0.99998866 0.99998866 ... 0.99998866 0.99998866 0.99998866], s=[0. 0. 0. ... 0. 0. 0.], zeta=[-0.00000000e+00  2.18696679e-06  6.85092638e-07 ...  8.31485105e-07\n",
       "  1.18904531e-06  6.57932034e-06], _ptau=[0.99999433 0.99896866 1.00117994 ... 0.99944702 1.00143116 0.99817854], _delta=[1.         0.99897433 1.00118561 ... 0.99945269 1.00143684 0.99818421], _rpp=[0.5        0.50025655 0.49970377 ... 0.50013687 0.49964105 0.50045436], _rvv=[1.0000085  1.0000085  1.00000851 ... 1.0000085  1.00000851 1.0000085 ], chi=[1. 1. 1. ... 1. 1. 1.], charge_ratio=[1. 1. 1. ... 1. 1. 1.], weight=[1. 1. 1. ... 1. 1. 1.], pdg_id=[0 0 0 ... 0 0 0], particle_id=[    0     1     2 ... 99997 99998 99999], at_element=[0 0 0 ... 0 0 0], at_turn=[0 0 0 ... 0 0 0], state=[1 1 1 ... 1 1 1], parent_particle_id=[    0     1     2 ... 99997 99998 99999], _rng_s1=[0 0 0 ... 0 0 0], _rng_s2=[0 0 0 ... 0 0 0], _rng_s3=[0 0 0 ... 0 0 0], _rng_s4=[0 0 0 ... 0 0 0], x=[ 5.08957129e-08  6.15034578e-05  2.30254514e-08 ...  2.08621251e-04\n",
       "  5.64747744e-05 -6.26614324e-05], y=[-5.47305446e-07 -5.50215348e-07  4.40441298e-05 ...  2.01889701e-04\n",
       "  2.77884048e-04  2.16434721e-04], px=[ 5.99166607e-09  6.28096994e-07  6.38793974e-09 ...  5.50625646e-06\n",
       "  1.21757376e-06 -2.37840015e-06], py=[-1.22334631e-08 -1.17054384e-08  1.65533365e-07 ...  6.02466623e-06\n",
       "  7.84711679e-06  6.54106916e-06])"
      ]
     },
     "execution_count": 4,
     "metadata": {},
     "output_type": "execute_result"
    }
   ],
   "source": [
    "particle_array = astraBeam2particleArray(\"ACHIP_EA1_2021.1351.001\")\n",
    "\n",
    "particles = xp.Particles(\n",
    "    x=particle_array.x(),\n",
    "    px=particle_array.px(),\n",
    "    y=particle_array.y(),\n",
    "    py=particle_array.py(),\n",
    "    zeta=particle_array.tau(),\n",
    "    delta=particle_array.pz,\n",
    "    mass0=xp.ELECTRON_MASS_EV,\n",
    "    energy0=particle_array.E * 1e9,\n",
    "    q0=-1,\n",
    ")\n",
    "particles"
   ]
  },
  {
   "cell_type": "code",
   "execution_count": 5,
   "metadata": {},
   "outputs": [
    {
     "name": "stdout",
     "output_type": "stream",
     "text": [
      "196 µs ± 1.1 µs per loop (mean ± std. dev. of 7 runs, 10 loops each)\n"
     ]
    }
   ],
   "source": [
    "%%timeit\n",
    "outgoing_particles = line.track(particles)"
   ]
  },
  {
   "cell_type": "code",
   "execution_count": 6,
   "metadata": {},
   "outputs": [
    {
     "name": "stdout",
     "output_type": "stream",
     "text": [
      "2.82 ms ± 3.33 µs per loop (mean ± std. dev. of 7 runs, 100 loops each)\n"
     ]
    }
   ],
   "source": [
    "%%timeit\n",
    "outgoing_particles = line.track(particles.copy())"
   ]
  },
  {
   "cell_type": "code",
   "execution_count": 7,
   "metadata": {},
   "outputs": [
    {
     "name": "stdout",
     "output_type": "stream",
     "text": [
      "2.83 ms ± 3.84 µs per loop (mean ± std. dev. of 7 runs, 100 loops each)\n"
     ]
    }
   ],
   "source": [
    "%%timeit\n",
    "outgoing_particles = line.track(particles.copy())\n",
    "line[\"AREAMQZM1\"].k1 = np.random.rand() * 30.0"
   ]
  },
  {
   "cell_type": "code",
   "execution_count": 8,
   "metadata": {},
   "outputs": [
    {
     "name": "stdout",
     "output_type": "stream",
     "text": [
      "Compiling ContextCpu kernels...\n",
      "Done compiling ContextCpu kernels.\n",
      "Compiling ContextCpu kernels...\n",
      "Done compiling ContextCpu kernels.\n",
      "Compiling ContextCpu kernels...\n",
      "Done compiling ContextCpu kernels.\n",
      "Compiling ContextCpu kernels...\n",
      "Done compiling ContextCpu kernels.\n",
      "Compiling ContextCpu kernels...\n",
      "Done compiling ContextCpu kernels.\n",
      "Compiling ContextCpu kernels...\n",
      "Done compiling ContextCpu kernels.\n",
      "Compiling ContextCpu kernels...\n",
      "Done compiling ContextCpu kernels.\n",
      "Compiling ContextCpu kernels...\n",
      "Done compiling ContextCpu kernels.\n",
      "5.55 s ± 21.9 ms per loop (mean ± std. dev. of 7 runs, 1 loop each)\n"
     ]
    }
   ],
   "source": [
    "%%timeit\n",
    "line.discard_tracker()\n",
    "line.build_tracker(_context=context)\n",
    "outgoing_particles = line.track(particles)"
   ]
  },
  {
   "cell_type": "code",
   "execution_count": 9,
   "metadata": {},
   "outputs": [
    {
     "name": "stdout",
     "output_type": "stream",
     "text": [
      "Compiling ContextCpu kernels...\n",
      "Done compiling ContextCpu kernels.\n"
     ]
    },
    {
     "data": {
      "text/plain": [
       "<xtrack.tracker.Tracker at 0x2bab2bacae20>"
      ]
     },
     "execution_count": 9,
     "metadata": {},
     "output_type": "execute_result"
    }
   ],
   "source": [
    "line = xt.Line(\n",
    "    elements=[\n",
    "        xt.Marker(),\n",
    "        xt.Drift(length=0.1750),\n",
    "        xt.Quadrupole(length=0.1220),\n",
    "        xt.Drift(length=0.4280),\n",
    "        xt.Quadrupole(length=0.1220),\n",
    "        xt.Drift(length=0.2040),\n",
    "        # xt.SimpleThinBend(length=0.0200, hxl=1e-3),\n",
    "        xt.Bend(length=0.0200),\n",
    "        xt.Drift(length=0.2040),\n",
    "        xt.Quadrupole(length=0.1220),\n",
    "        xt.Drift(length=0.1790),\n",
    "        # xt.SimpleThinBend(length=0.0200, hxl=-2e-3),\n",
    "        xt.Bend(length=0.0200),\n",
    "        xt.Drift(length=0.4500),\n",
    "        xt.BeamPositionMonitor(),\n",
    "        xt.BeamSizeMonitor(),\n",
    "    ],\n",
    "    element_names=[element.name for element in segment.elements]\n",
    "    + [f\"{segment.elements[-1].name}_2\"],\n",
    ")\n",
    "\n",
    "# Choose a context\n",
    "context = xo.ContextCpu()  # For CPU\n",
    "# context = xo.ContextCupy()      # For CUDA GPUs\n",
    "\n",
    "# Transfer lattice on context and compile tracking code\n",
    "line.build_tracker(_context=context)"
   ]
  },
  {
   "cell_type": "code",
   "execution_count": 10,
   "metadata": {},
   "outputs": [
    {
     "name": "stdout",
     "output_type": "stream",
     "text": [
      "2.87 ms ± 7.11 µs per loop (mean ± std. dev. of 7 runs, 100 loops each)\n"
     ]
    }
   ],
   "source": [
    "%%timeit\n",
    "outgoing_particles = line.track(particles.copy())"
   ]
  },
  {
   "cell_type": "code",
   "execution_count": 11,
   "metadata": {},
   "outputs": [
    {
     "data": {
      "text/plain": [
       "<xtrack.tracker.Tracker at 0x2bab2bae8b50>"
      ]
     },
     "execution_count": 11,
     "metadata": {},
     "output_type": "execute_result"
    }
   ],
   "source": [
    "line = xt.Line(\n",
    "    elements=[\n",
    "        xt.Marker(),\n",
    "        xt.Drift(length=0.1750),\n",
    "        xt.Quadrupole(length=0.1220, k1=10.0),\n",
    "        xt.Drift(length=0.4280),\n",
    "        xt.Quadrupole(length=0.1220, k1=-9.0),\n",
    "        xt.Drift(length=0.2040),\n",
    "        # xt.SimpleThinBend(length=0.0200, hxl=1e-3),\n",
    "        xt.Bend(length=0.0200, k0=0.1),\n",
    "        xt.Drift(length=0.2040),\n",
    "        xt.Quadrupole(length=0.1220, k1=-8.0),\n",
    "        xt.Drift(length=0.1790),\n",
    "        # xt.SimpleThinBend(length=0.0200, hxl=-2e-3),\n",
    "        xt.Bend(length=0.0200, k0=-0.1),\n",
    "        xt.Drift(length=0.4500),\n",
    "        xt.BeamPositionMonitor(),\n",
    "        xt.BeamSizeMonitor(),\n",
    "    ],\n",
    "    element_names=[element.name for element in segment.elements]\n",
    "    + [f\"{segment.elements[-1].name}_2\"],\n",
    ")\n",
    "\n",
    "# Choose a context\n",
    "# context = xo.ContextCpu()  # For CPU\n",
    "context = xo.ContextCupy()  # For CUDA GPUs\n",
    "\n",
    "# Transfer lattice on context and compile tracking code\n",
    "line.build_tracker(_context=context)"
   ]
  },
  {
   "cell_type": "code",
   "execution_count": 12,
   "metadata": {},
   "outputs": [
    {
     "data": {
      "text/plain": [
       "Particles(_capacity=100000, _num_active_particles=-1, _num_lost_particles=-1, start_tracking_at_element=-1, q0=-1.0, mass0=510998.9499961642, _p0c=[1.07314686e+08 1.07314686e+08 1.07314686e+08 ... 1.07314686e+08\n",
       " 1.07314686e+08 1.07314686e+08], _gamma0=[210.0119823 210.0119823 210.0119823 ... 210.0119823 210.0119823\n",
       " 210.0119823], _beta0=[0.99998866 0.99998866 0.99998866 ... 0.99998866 0.99998866 0.99998866], s=[0. 0. 0. ... 0. 0. 0.], zeta=[-0.00000000e+00  2.18696679e-06  6.85092638e-07 ...  8.31485105e-07\n",
       "  1.18904531e-06  6.57932034e-06], _ptau=[0.99999433 0.99896866 1.00117994 ... 0.99944702 1.00143116 0.99817854], _delta=[1.         0.99897433 1.00118561 ... 0.99945269 1.00143684 0.99818421], _rpp=[0.5        0.50025655 0.49970377 ... 0.50013687 0.49964105 0.50045436], _rvv=[1.0000085  1.0000085  1.00000851 ... 1.0000085  1.00000851 1.0000085 ], chi=[1. 1. 1. ... 1. 1. 1.], charge_ratio=[1. 1. 1. ... 1. 1. 1.], weight=[1. 1. 1. ... 1. 1. 1.], pdg_id=[0 0 0 ... 0 0 0], particle_id=[    0     1     2 ... 99997 99998 99999], at_element=[0 0 0 ... 0 0 0], at_turn=[0 0 0 ... 0 0 0], state=[1 1 1 ... 1 1 1], parent_particle_id=[    0     1     2 ... 99997 99998 99999], _rng_s1=[0 0 0 ... 0 0 0], _rng_s2=[0 0 0 ... 0 0 0], _rng_s3=[0 0 0 ... 0 0 0], _rng_s4=[0 0 0 ... 0 0 0], x=[ 5.08957129e-08  6.15034578e-05  2.30254514e-08 ...  2.08621251e-04\n",
       "  5.64747744e-05 -6.26614324e-05], y=[-5.47305446e-07 -5.50215348e-07  4.40441298e-05 ...  2.01889701e-04\n",
       "  2.77884048e-04  2.16434721e-04], px=[ 5.99166607e-09  6.28096994e-07  6.38793974e-09 ...  5.50625646e-06\n",
       "  1.21757376e-06 -2.37840015e-06], py=[-1.22334631e-08 -1.17054384e-08  1.65533365e-07 ...  6.02466623e-06\n",
       "  7.84711679e-06  6.54106916e-06])"
      ]
     },
     "execution_count": 12,
     "metadata": {},
     "output_type": "execute_result"
    }
   ],
   "source": [
    "particles = xp.Particles(\n",
    "    x=particle_array.x(),\n",
    "    px=particle_array.px(),\n",
    "    y=particle_array.y(),\n",
    "    py=particle_array.py(),\n",
    "    zeta=particle_array.tau(),\n",
    "    delta=particle_array.pz,\n",
    "    mass0=xp.ELECTRON_MASS_EV,\n",
    "    energy0=particle_array.E * 1e9,\n",
    "    q0=-1,\n",
    "    _context=context,\n",
    ")\n",
    "particles"
   ]
  },
  {
   "cell_type": "code",
   "execution_count": 15,
   "metadata": {},
   "outputs": [
    {
     "name": "stdout",
     "output_type": "stream",
     "text": [
      "571 µs ± 1.8 µs per loop (mean ± std. dev. of 7 runs, 1,000 loops each)\n"
     ]
    }
   ],
   "source": [
    "%%timeit\n",
    "outgoing_particles = line.track(particles.copy())"
   ]
  },
  {
   "cell_type": "code",
   "execution_count": null,
   "metadata": {},
   "outputs": [],
   "source": []
  }
 ],
 "metadata": {
  "kernelspec": {
   "display_name": "Python (cheetah-demos)",
   "language": "python",
   "name": "cheetah-demos"
  },
  "language_info": {
   "codemirror_mode": {
    "name": "ipython",
    "version": 3
   },
   "file_extension": ".py",
   "mimetype": "text/x-python",
   "name": "python",
   "nbconvert_exporter": "python",
   "pygments_lexer": "ipython3",
   "version": "3.9.18"
  }
 },
 "nbformat": 4,
 "nbformat_minor": 4
}
