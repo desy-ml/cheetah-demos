{
 "cells": [
  {
   "cell_type": "code",
   "execution_count": 1,
   "metadata": {},
   "outputs": [
    {
     "name": "stderr",
     "output_type": "stream",
     "text": [
      "/opt/homebrew/Caskroom/miniforge/base/envs/cheetah-demos/lib/python3.9/site-packages/ocelot/cpbd/beam.py:1567: NumbaDeprecationWarning: The 'nopython' keyword argument was not supplied to the 'numba.jit' decorator. The implicit default value for this argument is currently False, but it will be changed to True in Numba 0.59.0. See https://numba.readthedocs.io/en/stable/reference/deprecation.html#deprecation-of-object-mode-fall-back-behaviour-when-using-jit for details.\n",
      "  slice_analysis = slice_analysis_py if not nb_flag else nb.jit(slice_analysis_py)\n",
      "/opt/homebrew/Caskroom/miniforge/base/envs/cheetah-demos/lib/python3.9/site-packages/ocelot/cpbd/tm_utils.py:153: NumbaDeprecationWarning: The 'nopython' keyword argument was not supplied to the 'numba.jit' decorator. The implicit default value for this argument is currently False, but it will be changed to True in Numba 0.59.0. See https://numba.readthedocs.io/en/stable/reference/deprecation.html#deprecation-of-object-mode-fall-back-behaviour-when-using-jit for details.\n",
      "  transfer_maps_mult = transfer_maps_mult_py if nb_flag is not True else nb.jit(transfer_maps_mult_py)\n",
      "/opt/homebrew/Caskroom/miniforge/base/envs/cheetah-demos/lib/python3.9/site-packages/ocelot/cpbd/high_order.py:941: NumbaDeprecationWarning: The 'nopython' keyword argument was not supplied to the 'numba.jit' decorator. The implicit default value for this argument is currently False, but it will be changed to True in Numba 0.59.0. See https://numba.readthedocs.io/en/stable/reference/deprecation.html#deprecation-of-object-mode-fall-back-behaviour-when-using-jit for details.\n",
      "  moments = moments_py if not nb_flag else nb.jit(moments_py)\n",
      "/opt/homebrew/Caskroom/miniforge/base/envs/cheetah-demos/lib/python3.9/site-packages/ocelot/cpbd/elements/undulator_atom.py:58: NumbaDeprecationWarning: The 'nopython' keyword argument was not supplied to the 'numba.jit' decorator. The implicit default value for this argument is currently False, but it will be changed to True in Numba 0.59.0. See https://numba.readthedocs.io/en/stable/reference/deprecation.html#deprecation-of-object-mode-fall-back-behaviour-when-using-jit for details.\n",
      "  und_field = und_field_py if not nb_flag else nb.jit(forceobj=False)(und_field_py)\n",
      "/opt/homebrew/Caskroom/miniforge/base/envs/cheetah-demos/lib/python3.9/site-packages/ocelot/rad/radiation_py.py:434: NumbaDeprecationWarning: The 'nopython' keyword argument was not supplied to the 'numba.jit' decorator. The implicit default value for this argument is currently False, but it will be changed to True in Numba 0.59.0. See https://numba.readthedocs.io/en/stable/reference/deprecation.html#deprecation-of-object-mode-fall-back-behaviour-when-using-jit for details.\n",
      "  gintegrator_over_traj = gintegrator_over_traj_py if not nb_flag else nb.jit(gintegrator_over_traj_py)\n",
      "[INFO    ] \u001b[0mcsr.py: module PYFFTW is not installed. Install it to speed up calculation.\u001b[0m\n",
      "/opt/homebrew/Caskroom/miniforge/base/envs/cheetah-demos/lib/python3.9/site-packages/ocelot/cpbd/wake3D.py:80: NumbaDeprecationWarning: The 'nopython' keyword argument was not supplied to the 'numba.jit' decorator. The implicit default value for this argument is currently False, but it will be changed to True in Numba 0.59.0. See https://numba.readthedocs.io/en/stable/reference/deprecation.html#deprecation-of-object-mode-fall-back-behaviour-when-using-jit for details.\n",
      "  project_on_grid = project_on_grid_py if not nb_flag else nb.jit(project_on_grid_py)\n"
     ]
    },
    {
     "name": "stdout",
     "output_type": "stream",
     "text": [
      "initializing ocelot...\n",
      "import: module PYFFTW is not installed. Install it to speed up calculation\n"
     ]
    },
    {
     "name": "stderr",
     "output_type": "stream",
     "text": [
      "/opt/homebrew/Caskroom/miniforge/base/envs/cheetah-demos/lib/python3.9/site-packages/xtrack/progress_indicator.py:95: TqdmExperimentalWarning: Using `tqdm.autonotebook.tqdm` in notebook mode. Use `tqdm.tqdm` instead to force console mode (e.g. in jupyter console)\n",
      "  from tqdm.autonotebook import tqdm\n"
     ]
    }
   ],
   "source": [
    "import ARESlatticeStage3v1_9 as ares\n",
    "import cheetah\n",
    "import xobjects as xo\n",
    "import xpart as xp\n",
    "import numpy as np\n",
    "import xtrack as xt\n",
    "from ocelot.adaptors.astra2ocelot import astraBeam2particleArray"
   ]
  },
  {
   "cell_type": "code",
   "execution_count": 2,
   "metadata": {},
   "outputs": [
    {
     "data": {
      "text/plain": [
       "Segment(elements=ModuleList(\n",
       "  (0): Marker(name='AREASOLA1')\n",
       "  (1): Drift(length=tensor(0.1750))\n",
       "  (2): Quadrupole(length=tensor(0.1220), k1=tensor(0.), misalignment=tensor([0., 0.]), tilt=tensor(0.), name='AREAMQZM1')\n",
       "  (3): Drift(length=tensor(0.4280))\n",
       "  (4): Quadrupole(length=tensor(0.1220), k1=tensor(0.), misalignment=tensor([0., 0.]), tilt=tensor(0.), name='AREAMQZM2')\n",
       "  (5): Drift(length=tensor(0.2040))\n",
       "  (6): VerticalCorrector(length=tensor(0.0200), angle=tensor(0.), name='AREAMCVM1')\n",
       "  (7): Drift(length=tensor(0.2040))\n",
       "  (8): Quadrupole(length=tensor(0.1220), k1=tensor(0.), misalignment=tensor([0., 0.]), tilt=tensor(0.), name='AREAMQZM3')\n",
       "  (9): Drift(length=tensor(0.1790))\n",
       "  (10): HorizontalCorrector(length=tensor(0.0200), angle=tensor(0.), name='AREAMCHM1')\n",
       "  (11): Drift(length=tensor(0.4500))\n",
       "  (12): Screen(resolution=tensor([2448, 2040]), pixel_size=tensor([3.5488e-06, 2.5003e-06]), binning=tensor(1), misalignment=tensor([0., 0.]), is_active=False, name='AREABSCR1')\n",
       "), name='unnamed')"
      ]
     },
     "execution_count": 2,
     "metadata": {},
     "output_type": "execute_result"
    }
   ],
   "source": [
    "segment = cheetah.Segment.from_ocelot(ares.cell, warnings=False).subcell(\n",
    "    \"AREASOLA1\", \"AREABSCR1\"\n",
    ")\n",
    "segment"
   ]
  },
  {
   "cell_type": "code",
   "execution_count": 3,
   "metadata": {},
   "outputs": [
    {
     "name": "stdout",
     "output_type": "stream",
     "text": [
      "Compiling ContextCpu kernels...\n"
     ]
    },
    {
     "name": "stderr",
     "output_type": "stream",
     "text": [
      "ld: warning: duplicate -rpath '/opt/homebrew/Caskroom/miniforge/base/envs/cheetah-demos/lib' ignored\n"
     ]
    },
    {
     "name": "stdout",
     "output_type": "stream",
     "text": [
      "Done compiling ContextCpu kernels.\n"
     ]
    },
    {
     "data": {
      "text/plain": [
       "<xtrack.tracker.Tracker at 0x2a269b340>"
      ]
     },
     "execution_count": 3,
     "metadata": {},
     "output_type": "execute_result"
    }
   ],
   "source": [
    "line = xt.Line(\n",
    "    elements=[\n",
    "        xt.Marker(),\n",
    "        xt.Drift(length=0.1750),\n",
    "        xt.Quadrupole(length=0.1220, k1=10.0),\n",
    "        xt.Drift(length=0.4280),\n",
    "        xt.Quadrupole(length=0.1220, k1=-9.0),\n",
    "        xt.Drift(length=0.2040),\n",
    "        xt.SimpleThinBend(length=0.0200, hxl=1e-3),\n",
    "        xt.Drift(length=0.2040),\n",
    "        xt.Quadrupole(length=0.1220, k1=-8.0),\n",
    "        xt.Drift(length=0.1790),\n",
    "        xt.SimpleThinBend(length=0.0200, hxl=-2e-3),\n",
    "        xt.Drift(length=0.4500),\n",
    "        xt.BeamPositionMonitor(),\n",
    "        xt.BeamSizeMonitor(),\n",
    "    ],\n",
    "    element_names=[element.name for element in segment.elements]\n",
    "    + [f\"{segment.elements[-1].name}_2\"],\n",
    ")\n",
    "\n",
    "# Choose a context\n",
    "context = xo.ContextCpu()  # For CPU\n",
    "# context = xo.ContextCupy()      # For CUDA GPUs\n",
    "\n",
    "# Transfer lattice on context and compile tracking code\n",
    "line.build_tracker(_context=context)"
   ]
  },
  {
   "cell_type": "code",
   "execution_count": 4,
   "metadata": {},
   "outputs": [
    {
     "name": "stdout",
     "output_type": "stream",
     "text": [
      "Astra to Ocelot: charge =  5.000000000001694e-13  C\n",
      "Astra to Ocelot: particles number =  100000\n",
      "Astra to Ocelot: energy =  0.10731590244355117  GeV\n",
      "Astra to Ocelot: s pos =  13.50890653269  m\n"
     ]
    },
    {
     "data": {
      "text/plain": [
       "Particles(_capacity=100000, _num_active_particles=100000, _num_lost_particles=0, start_tracking_at_element=-1, q0=-1.0, mass0=510998.9499961642, _p0c=[1.07314686e+08 1.07314686e+08 1.07314686e+08 ... 1.07314686e+08\n",
       " 1.07314686e+08 1.07314686e+08], _gamma0=[210.0119823 210.0119823 210.0119823 ... 210.0119823 210.0119823\n",
       " 210.0119823], _beta0=[0.99998866 0.99998866 0.99998866 ... 0.99998866 0.99998866 0.99998866], s=[0. 0. 0. ... 0. 0. 0.], zeta=[-0.00000000e+00  2.18696679e-06  6.85092638e-07 ...  8.31485105e-07\n",
       "  1.18904531e-06  6.57932034e-06], _ptau=[0.99999433 0.99896866 1.00117994 ... 0.99944702 1.00143116 0.99817854], _delta=[1.         0.99897433 1.00118561 ... 0.99945269 1.00143684 0.99818421], _rpp=[0.5        0.50025655 0.49970377 ... 0.50013687 0.49964105 0.50045436], _rvv=[1.0000085  1.0000085  1.00000851 ... 1.0000085  1.00000851 1.0000085 ], chi=[1. 1. 1. ... 1. 1. 1.], charge_ratio=[1. 1. 1. ... 1. 1. 1.], weight=[1. 1. 1. ... 1. 1. 1.], pdg_id=[0 0 0 ... 0 0 0], particle_id=[    0     1     2 ... 99997 99998 99999], at_element=[0 0 0 ... 0 0 0], at_turn=[0 0 0 ... 0 0 0], state=[1 1 1 ... 1 1 1], parent_particle_id=[    0     1     2 ... 99997 99998 99999], _rng_s1=[0 0 0 ... 0 0 0], _rng_s2=[0 0 0 ... 0 0 0], _rng_s3=[0 0 0 ... 0 0 0], _rng_s4=[0 0 0 ... 0 0 0], x=[ 5.08957129e-08  6.15034578e-05  2.30254514e-08 ...  2.08621251e-04\n",
       "  5.64747744e-05 -6.26614324e-05], y=[-5.47305446e-07 -5.50215348e-07  4.40441298e-05 ...  2.01889701e-04\n",
       "  2.77884048e-04  2.16434721e-04], px=[ 5.99166607e-09  6.28096994e-07  6.38793974e-09 ...  5.50625646e-06\n",
       "  1.21757376e-06 -2.37840015e-06], py=[-1.22334631e-08 -1.17054384e-08  1.65533365e-07 ...  6.02466623e-06\n",
       "  7.84711679e-06  6.54106916e-06])"
      ]
     },
     "execution_count": 4,
     "metadata": {},
     "output_type": "execute_result"
    }
   ],
   "source": [
    "particle_array = astraBeam2particleArray(\"ACHIP_EA1_2021.1351.001\")\n",
    "\n",
    "particles = xp.Particles(\n",
    "    x=particle_array.x(),\n",
    "    px=particle_array.px(),\n",
    "    y=particle_array.y(),\n",
    "    py=particle_array.py(),\n",
    "    zeta=particle_array.tau(),\n",
    "    delta=particle_array.pz,\n",
    "    mass0=xp.ELECTRON_MASS_EV,\n",
    "    energy0=particle_array.E * 1e9,\n",
    "    q0=-1,\n",
    ")\n",
    "particles"
   ]
  },
  {
   "cell_type": "code",
   "execution_count": 5,
   "metadata": {},
   "outputs": [
    {
     "name": "stdout",
     "output_type": "stream",
     "text": [
      "133 µs ± 1.53 µs per loop (mean ± std. dev. of 7 runs, 10,000 loops each)\n"
     ]
    }
   ],
   "source": [
    "%%timeit\n",
    "outgoing_particles = line.track(particles)"
   ]
  },
  {
   "cell_type": "code",
   "execution_count": 6,
   "metadata": {},
   "outputs": [
    {
     "name": "stdout",
     "output_type": "stream",
     "text": [
      "810 µs ± 7.45 µs per loop (mean ± std. dev. of 7 runs, 1,000 loops each)\n"
     ]
    }
   ],
   "source": [
    "%%timeit\n",
    "outgoing_particles = line.track(particles.copy())"
   ]
  },
  {
   "cell_type": "code",
   "execution_count": 7,
   "metadata": {},
   "outputs": [
    {
     "name": "stdout",
     "output_type": "stream",
     "text": [
      "814 µs ± 4.31 µs per loop (mean ± std. dev. of 7 runs, 1,000 loops each)\n"
     ]
    }
   ],
   "source": [
    "%%timeit\n",
    "outgoing_particles = line.track(particles.copy())\n",
    "line[\"AREAMQZM1\"].k1 = np.random.rand() * 30.0"
   ]
  },
  {
   "cell_type": "code",
   "execution_count": 8,
   "metadata": {},
   "outputs": [
    {
     "name": "stdout",
     "output_type": "stream",
     "text": [
      "Compiling ContextCpu kernels...\n"
     ]
    },
    {
     "name": "stderr",
     "output_type": "stream",
     "text": [
      "ld: warning: duplicate -rpath '/opt/homebrew/Caskroom/miniforge/base/envs/cheetah-demos/lib' ignored\n"
     ]
    },
    {
     "name": "stdout",
     "output_type": "stream",
     "text": [
      "Done compiling ContextCpu kernels.\n",
      "Compiling ContextCpu kernels...\n"
     ]
    },
    {
     "name": "stderr",
     "output_type": "stream",
     "text": [
      "ld: warning: duplicate -rpath '/opt/homebrew/Caskroom/miniforge/base/envs/cheetah-demos/lib' ignored\n"
     ]
    },
    {
     "name": "stdout",
     "output_type": "stream",
     "text": [
      "Done compiling ContextCpu kernels.\n",
      "Compiling ContextCpu kernels...\n"
     ]
    },
    {
     "name": "stderr",
     "output_type": "stream",
     "text": [
      "ld: warning: duplicate -rpath '/opt/homebrew/Caskroom/miniforge/base/envs/cheetah-demos/lib' ignored\n"
     ]
    },
    {
     "name": "stdout",
     "output_type": "stream",
     "text": [
      "Done compiling ContextCpu kernels.\n",
      "Compiling ContextCpu kernels...\n"
     ]
    },
    {
     "name": "stderr",
     "output_type": "stream",
     "text": [
      "ld: warning: duplicate -rpath '/opt/homebrew/Caskroom/miniforge/base/envs/cheetah-demos/lib' ignored\n"
     ]
    },
    {
     "name": "stdout",
     "output_type": "stream",
     "text": [
      "Done compiling ContextCpu kernels.\n",
      "Compiling ContextCpu kernels...\n"
     ]
    },
    {
     "name": "stderr",
     "output_type": "stream",
     "text": [
      "ld: warning: duplicate -rpath '/opt/homebrew/Caskroom/miniforge/base/envs/cheetah-demos/lib' ignored\n"
     ]
    },
    {
     "name": "stdout",
     "output_type": "stream",
     "text": [
      "Done compiling ContextCpu kernels.\n",
      "Compiling ContextCpu kernels...\n"
     ]
    },
    {
     "name": "stderr",
     "output_type": "stream",
     "text": [
      "ld: warning: duplicate -rpath '/opt/homebrew/Caskroom/miniforge/base/envs/cheetah-demos/lib' ignored\n"
     ]
    },
    {
     "name": "stdout",
     "output_type": "stream",
     "text": [
      "Done compiling ContextCpu kernels.\n",
      "Compiling ContextCpu kernels...\n"
     ]
    },
    {
     "name": "stderr",
     "output_type": "stream",
     "text": [
      "ld: warning: duplicate -rpath '/opt/homebrew/Caskroom/miniforge/base/envs/cheetah-demos/lib' ignored\n"
     ]
    },
    {
     "name": "stdout",
     "output_type": "stream",
     "text": [
      "Done compiling ContextCpu kernels.\n",
      "Compiling ContextCpu kernels...\n",
      "Done compiling ContextCpu kernels.\n",
      "2.35 s ± 8.53 ms per loop (mean ± std. dev. of 7 runs, 1 loop each)\n"
     ]
    },
    {
     "name": "stderr",
     "output_type": "stream",
     "text": [
      "ld: warning: duplicate -rpath '/opt/homebrew/Caskroom/miniforge/base/envs/cheetah-demos/lib' ignored\n"
     ]
    }
   ],
   "source": [
    "%%timeit\n",
    "line.discard_tracker()\n",
    "line.build_tracker(_context=context)\n",
    "outgoing_particles = line.track(particles)"
   ]
  },
  {
   "cell_type": "code",
   "execution_count": 9,
   "metadata": {},
   "outputs": [
    {
     "name": "stdout",
     "output_type": "stream",
     "text": [
      "Compiling ContextCpu kernels...\n",
      "Done compiling ContextCpu kernels.\n"
     ]
    },
    {
     "name": "stderr",
     "output_type": "stream",
     "text": [
      "ld: warning: duplicate -rpath '/opt/homebrew/Caskroom/miniforge/base/envs/cheetah-demos/lib' ignored\n"
     ]
    },
    {
     "data": {
      "text/plain": [
       "<xtrack.tracker.Tracker at 0x2a6934fd0>"
      ]
     },
     "execution_count": 9,
     "metadata": {},
     "output_type": "execute_result"
    }
   ],
   "source": [
    "line = xt.Line(\n",
    "    elements=[\n",
    "        xt.Marker(),\n",
    "        xt.Drift(length=0.1750),\n",
    "        xt.Quadrupole(length=0.1220),\n",
    "        xt.Drift(length=0.4280),\n",
    "        xt.Quadrupole(length=0.1220),\n",
    "        xt.Drift(length=0.2040),\n",
    "        # xt.SimpleThinBend(length=0.0200, hxl=1e-3),\n",
    "        xt.Bend(length=0.0200),\n",
    "        xt.Drift(length=0.2040),\n",
    "        xt.Quadrupole(length=0.1220),\n",
    "        xt.Drift(length=0.1790),\n",
    "        # xt.SimpleThinBend(length=0.0200, hxl=-2e-3),\n",
    "        xt.Bend(length=0.0200),\n",
    "        xt.Drift(length=0.4500),\n",
    "        xt.BeamPositionMonitor(),\n",
    "        xt.BeamSizeMonitor(),\n",
    "    ],\n",
    "    element_names=[element.name for element in segment.elements]\n",
    "    + [f\"{segment.elements[-1].name}_2\"],\n",
    ")\n",
    "\n",
    "# Choose a context\n",
    "context = xo.ContextCpu()  # For CPU\n",
    "# context = xo.ContextCupy()      # For CUDA GPUs\n",
    "\n",
    "# Transfer lattice on context and compile tracking code\n",
    "line.build_tracker(_context=context)"
   ]
  },
  {
   "cell_type": "code",
   "execution_count": 10,
   "metadata": {},
   "outputs": [
    {
     "name": "stdout",
     "output_type": "stream",
     "text": [
      "821 µs ± 19.3 µs per loop (mean ± std. dev. of 7 runs, 1,000 loops each)\n"
     ]
    }
   ],
   "source": [
    "%%timeit\n",
    "outgoing_particles = line.track(particles.copy())"
   ]
  },
  {
   "cell_type": "code",
   "execution_count": 11,
   "metadata": {},
   "outputs": [
    {
     "ename": "NameError",
     "evalue": "cupy is not installed. ContextCupy is not available!",
     "output_type": "error",
     "traceback": [
      "\u001b[0;31m---------------------------------------------------------------------------\u001b[0m",
      "\u001b[0;31mNameError\u001b[0m                                 Traceback (most recent call last)",
      "Cell \u001b[0;32mIn[11], line 29\u001b[0m\n\u001b[1;32m     26\u001b[0m context \u001b[38;5;241m=\u001b[39m xo\u001b[38;5;241m.\u001b[39mContextCupy()  \u001b[38;5;66;03m# For CUDA GPUs\u001b[39;00m\n\u001b[1;32m     28\u001b[0m \u001b[38;5;66;03m# Transfer lattice on context and compile tracking code\u001b[39;00m\n\u001b[0;32m---> 29\u001b[0m \u001b[43mline\u001b[49m\u001b[38;5;241;43m.\u001b[39;49m\u001b[43mbuild_tracker\u001b[49m\u001b[43m(\u001b[49m\u001b[43m_context\u001b[49m\u001b[38;5;241;43m=\u001b[39;49m\u001b[43mcontext\u001b[49m\u001b[43m)\u001b[49m\n",
      "File \u001b[0;32m/opt/homebrew/Caskroom/miniforge/base/envs/cheetah-demos/lib/python3.9/site-packages/xtrack/line.py:715\u001b[0m, in \u001b[0;36mLine.build_tracker\u001b[0;34m(self, _context, _buffer, compile, io_buffer, use_prebuilt_kernels, enable_pipeline_hold, **kwargs)\u001b[0m\n\u001b[1;32m    712\u001b[0m     _print(\u001b[38;5;124m'\u001b[39m\u001b[38;5;124mThe line already has an associated tracker\u001b[39m\u001b[38;5;124m'\u001b[39m)\n\u001b[1;32m    713\u001b[0m     \u001b[38;5;28;01mreturn\u001b[39;00m \u001b[38;5;28mself\u001b[39m\u001b[38;5;241m.\u001b[39mtracker\n\u001b[0;32m--> 715\u001b[0m \u001b[38;5;28mself\u001b[39m\u001b[38;5;241m.\u001b[39mtracker \u001b[38;5;241m=\u001b[39m \u001b[43mxt\u001b[49m\u001b[38;5;241;43m.\u001b[39;49m\u001b[43mTracker\u001b[49m\u001b[43m(\u001b[49m\n\u001b[1;32m    716\u001b[0m \u001b[43m                        \u001b[49m\u001b[43mline\u001b[49m\u001b[38;5;241;43m=\u001b[39;49m\u001b[38;5;28;43mself\u001b[39;49m\u001b[43m,\u001b[49m\n\u001b[1;32m    717\u001b[0m \u001b[43m                        \u001b[49m\u001b[43m_context\u001b[49m\u001b[38;5;241;43m=\u001b[39;49m\u001b[43m_context\u001b[49m\u001b[43m,\u001b[49m\n\u001b[1;32m    718\u001b[0m \u001b[43m                        \u001b[49m\u001b[43m_buffer\u001b[49m\u001b[38;5;241;43m=\u001b[39;49m\u001b[43m_buffer\u001b[49m\u001b[43m,\u001b[49m\n\u001b[1;32m    719\u001b[0m \u001b[43m                        \u001b[49m\u001b[38;5;28;43mcompile\u001b[39;49m\u001b[38;5;241;43m=\u001b[39;49m\u001b[38;5;28;43mcompile\u001b[39;49m\u001b[43m,\u001b[49m\n\u001b[1;32m    720\u001b[0m \u001b[43m                        \u001b[49m\u001b[43mio_buffer\u001b[49m\u001b[38;5;241;43m=\u001b[39;49m\u001b[43mio_buffer\u001b[49m\u001b[43m,\u001b[49m\n\u001b[1;32m    721\u001b[0m \u001b[43m                        \u001b[49m\u001b[43muse_prebuilt_kernels\u001b[49m\u001b[38;5;241;43m=\u001b[39;49m\u001b[43muse_prebuilt_kernels\u001b[49m\u001b[43m,\u001b[49m\n\u001b[1;32m    722\u001b[0m \u001b[43m                        \u001b[49m\u001b[43menable_pipeline_hold\u001b[49m\u001b[38;5;241;43m=\u001b[39;49m\u001b[43menable_pipeline_hold\u001b[49m\u001b[43m,\u001b[49m\n\u001b[1;32m    723\u001b[0m \u001b[43m                        \u001b[49m\u001b[38;5;241;43m*\u001b[39;49m\u001b[38;5;241;43m*\u001b[39;49m\u001b[43mkwargs\u001b[49m\u001b[43m)\u001b[49m\n\u001b[1;32m    725\u001b[0m \u001b[38;5;28;01mreturn\u001b[39;00m \u001b[38;5;28mself\u001b[39m\u001b[38;5;241m.\u001b[39mtracker\n",
      "File \u001b[0;32m/opt/homebrew/Caskroom/miniforge/base/envs/cheetah-demos/lib/python3.9/site-packages/xtrack/tracker.py:115\u001b[0m, in \u001b[0;36mTracker.__init__\u001b[0;34m(self, _context, _buffer, line, compile, io_buffer, use_prebuilt_kernels, enable_pipeline_hold, track_kernel, particles_class, particles_monitor_class, extra_headers, local_particle_src)\u001b[0m\n\u001b[1;32m    112\u001b[0m \u001b[38;5;28;01melse\u001b[39;00m:\n\u001b[1;32m    113\u001b[0m     ele_dict_non_collective \u001b[38;5;241m=\u001b[39m line\u001b[38;5;241m.\u001b[39melement_dict\n\u001b[0;32m--> 115\u001b[0m tracker_data_base \u001b[38;5;241m=\u001b[39m \u001b[43mTrackerData\u001b[49m\u001b[43m(\u001b[49m\n\u001b[1;32m    116\u001b[0m \u001b[43m    \u001b[49m\u001b[43mallow_move\u001b[49m\u001b[38;5;241;43m=\u001b[39;49m\u001b[38;5;28;43;01mTrue\u001b[39;49;00m\u001b[43m,\u001b[49m\u001b[43m \u001b[49m\u001b[38;5;66;43;03m# Will move elements to the same buffer\u001b[39;49;00m\n\u001b[1;32m    117\u001b[0m \u001b[43m    \u001b[49m\u001b[43melement_dict\u001b[49m\u001b[38;5;241;43m=\u001b[39;49m\u001b[43mele_dict_non_collective\u001b[49m\u001b[43m,\u001b[49m\n\u001b[1;32m    118\u001b[0m \u001b[43m    \u001b[49m\u001b[43melement_names\u001b[49m\u001b[38;5;241;43m=\u001b[39;49m\u001b[43mline\u001b[49m\u001b[38;5;241;43m.\u001b[39;49m\u001b[43melement_names\u001b[49m\u001b[43m,\u001b[49m\n\u001b[1;32m    119\u001b[0m \u001b[43m    \u001b[49m\u001b[43melement_s_locations\u001b[49m\u001b[38;5;241;43m=\u001b[39;49m\u001b[43mline\u001b[49m\u001b[38;5;241;43m.\u001b[39;49m\u001b[43mget_s_elements\u001b[49m\u001b[43m(\u001b[49m\u001b[43m)\u001b[49m\u001b[43m,\u001b[49m\n\u001b[1;32m    120\u001b[0m \u001b[43m    \u001b[49m\u001b[43mline_length\u001b[49m\u001b[38;5;241;43m=\u001b[39;49m\u001b[43mline\u001b[49m\u001b[38;5;241;43m.\u001b[39;49m\u001b[43mget_length\u001b[49m\u001b[43m(\u001b[49m\u001b[43m)\u001b[49m\u001b[43m,\u001b[49m\n\u001b[1;32m    121\u001b[0m \u001b[43m    \u001b[49m\u001b[43mcompound_mask\u001b[49m\u001b[38;5;241;43m=\u001b[39;49m\u001b[43mline\u001b[49m\u001b[38;5;241;43m.\u001b[39;49m\u001b[43mget_compound_mask\u001b[49m\u001b[43m(\u001b[49m\u001b[43m)\u001b[49m\u001b[43m,\u001b[49m\n\u001b[1;32m    122\u001b[0m \u001b[43m    \u001b[49m\u001b[43melement_compound_names\u001b[49m\u001b[38;5;241;43m=\u001b[39;49m\u001b[43mline\u001b[49m\u001b[38;5;241;43m.\u001b[39;49m\u001b[43mget_element_compound_names\u001b[49m\u001b[43m(\u001b[49m\u001b[43m)\u001b[49m\u001b[43m,\u001b[49m\n\u001b[1;32m    123\u001b[0m \u001b[43m    \u001b[49m\u001b[43mkernel_element_classes\u001b[49m\u001b[38;5;241;43m=\u001b[39;49m\u001b[38;5;28;43;01mNone\u001b[39;49;00m\u001b[43m,\u001b[49m\n\u001b[1;32m    124\u001b[0m \u001b[43m    \u001b[49m\u001b[43mextra_element_classes\u001b[49m\u001b[38;5;241;43m=\u001b[39;49m\u001b[43m(\u001b[49m\u001b[43mparticles_monitor_class\u001b[49m\u001b[38;5;241;43m.\u001b[39;49m\u001b[43m_XoStruct\u001b[49m\u001b[43m,\u001b[49m\u001b[43m)\u001b[49m\u001b[43m,\u001b[49m\n\u001b[1;32m    125\u001b[0m \u001b[43m    \u001b[49m\u001b[43m_context\u001b[49m\u001b[38;5;241;43m=\u001b[39;49m\u001b[43m_context\u001b[49m\u001b[43m,\u001b[49m\n\u001b[1;32m    126\u001b[0m \u001b[43m    \u001b[49m\u001b[43m_buffer\u001b[49m\u001b[38;5;241;43m=\u001b[39;49m\u001b[43m_buffer\u001b[49m\u001b[43m)\u001b[49m\n\u001b[1;32m    127\u001b[0m line\u001b[38;5;241m.\u001b[39m_freeze()\n\u001b[1;32m    129\u001b[0m _buffer \u001b[38;5;241m=\u001b[39m tracker_data_base\u001b[38;5;241m.\u001b[39m_buffer\n",
      "File \u001b[0;32m/opt/homebrew/Caskroom/miniforge/base/envs/cheetah-demos/lib/python3.9/site-packages/xtrack/tracker_data.py:89\u001b[0m, in \u001b[0;36mTrackerData.__init__\u001b[0;34m(self, element_dict, element_names, element_s_locations, line_length, cache, compound_mask, element_compound_names, kernel_element_classes, extra_element_classes, allow_move, _context, _buffer, _offset)\u001b[0m\n\u001b[1;32m     87\u001b[0m     \u001b[38;5;28;01mif\u001b[39;00m _buffer \u001b[38;5;129;01mis\u001b[39;00m \u001b[38;5;28;01mNone\u001b[39;00m \u001b[38;5;129;01mand\u001b[39;00m _context \u001b[38;5;129;01mis\u001b[39;00m \u001b[38;5;28;01mNone\u001b[39;00m:\n\u001b[1;32m     88\u001b[0m         _context \u001b[38;5;241m=\u001b[39m \u001b[38;5;28mself\u001b[39m\u001b[38;5;241m.\u001b[39mcommon_context_for_elements()\n\u001b[0;32m---> 89\u001b[0m     _buffer \u001b[38;5;241m=\u001b[39m _buffer \u001b[38;5;129;01mor\u001b[39;00m \u001b[43mxo\u001b[49m\u001b[38;5;241;43m.\u001b[39;49m\u001b[43mget_a_buffer\u001b[49m\u001b[43m(\u001b[49m\u001b[43mcontext\u001b[49m\u001b[38;5;241;43m=\u001b[39;49m\u001b[43m_context\u001b[49m\u001b[43m,\u001b[49m\u001b[43m \u001b[49m\u001b[43msize\u001b[49m\u001b[38;5;241;43m=\u001b[39;49m\u001b[38;5;241;43m64\u001b[39;49m\u001b[43m)\u001b[49m\n\u001b[1;32m     90\u001b[0m \u001b[38;5;28;01melif\u001b[39;00m _context \u001b[38;5;129;01mis\u001b[39;00m \u001b[38;5;129;01mnot\u001b[39;00m \u001b[38;5;28;01mNone\u001b[39;00m \u001b[38;5;129;01mand\u001b[39;00m _buffer\u001b[38;5;241m.\u001b[39mcontext \u001b[38;5;129;01mis\u001b[39;00m \u001b[38;5;129;01mnot\u001b[39;00m _context:\n\u001b[1;32m     91\u001b[0m     \u001b[38;5;28;01mraise\u001b[39;00m \u001b[38;5;167;01mValueError\u001b[39;00m(\u001b[38;5;124m'\u001b[39m\u001b[38;5;124mThe given context and buffer are not compatible.\u001b[39m\u001b[38;5;124m'\u001b[39m)\n",
      "File \u001b[0;32m/opt/homebrew/Caskroom/miniforge/base/envs/cheetah-demos/lib/python3.9/site-packages/xobjects/typeutils.py:20\u001b[0m, in \u001b[0;36mget_a_buffer\u001b[0;34m(context, buffer, size)\u001b[0m\n\u001b[1;32m     18\u001b[0m     \u001b[38;5;28;01mif\u001b[39;00m context \u001b[38;5;129;01mis\u001b[39;00m \u001b[38;5;28;01mNone\u001b[39;00m:\n\u001b[1;32m     19\u001b[0m         context \u001b[38;5;241m=\u001b[39m context_default\n\u001b[0;32m---> 20\u001b[0m     \u001b[38;5;28;01mreturn\u001b[39;00m \u001b[43mcontext\u001b[49m\u001b[38;5;241;43m.\u001b[39;49m\u001b[43mnew_buffer\u001b[49m\u001b[43m(\u001b[49m\u001b[43msize\u001b[49m\u001b[43m)\u001b[49m\n\u001b[1;32m     21\u001b[0m \u001b[38;5;28;01melse\u001b[39;00m:\n\u001b[1;32m     22\u001b[0m     \u001b[38;5;28;01mreturn\u001b[39;00m buffer\n",
      "File \u001b[0;32m/opt/homebrew/Caskroom/miniforge/base/envs/cheetah-demos/lib/python3.9/site-packages/xobjects/context.py:242\u001b[0m, in \u001b[0;36mXContext.new_buffer\u001b[0;34m(self, capacity)\u001b[0m\n\u001b[1;32m    241\u001b[0m \u001b[38;5;28;01mdef\u001b[39;00m \u001b[38;5;21mnew_buffer\u001b[39m(\u001b[38;5;28mself\u001b[39m, capacity\u001b[38;5;241m=\u001b[39m\u001b[38;5;241m1048576\u001b[39m):\n\u001b[0;32m--> 242\u001b[0m     buf \u001b[38;5;241m=\u001b[39m \u001b[38;5;28;43mself\u001b[39;49m\u001b[38;5;241;43m.\u001b[39;49m\u001b[43m_make_buffer\u001b[49m\u001b[43m(\u001b[49m\u001b[43mcapacity\u001b[49m\u001b[38;5;241;43m=\u001b[39;49m\u001b[43mcapacity\u001b[49m\u001b[43m)\u001b[49m\n\u001b[1;32m    243\u001b[0m     \u001b[38;5;28mself\u001b[39m\u001b[38;5;241m.\u001b[39mbuffers\u001b[38;5;241m.\u001b[39mappend(weakref\u001b[38;5;241m.\u001b[39mfinalize(buf, log\u001b[38;5;241m.\u001b[39mdebug, \u001b[38;5;124m\"\u001b[39m\u001b[38;5;124mfree buf\u001b[39m\u001b[38;5;124m\"\u001b[39m))\n\u001b[1;32m    244\u001b[0m     \u001b[38;5;28;01mreturn\u001b[39;00m buf\n",
      "File \u001b[0;32m/opt/homebrew/Caskroom/miniforge/base/envs/cheetah-demos/lib/python3.9/site-packages/xobjects/context_cupy.py:410\u001b[0m, in \u001b[0;36mContextCupy._make_buffer\u001b[0;34m(self, capacity)\u001b[0m\n\u001b[1;32m    409\u001b[0m \u001b[38;5;28;01mdef\u001b[39;00m \u001b[38;5;21m_make_buffer\u001b[39m(\u001b[38;5;28mself\u001b[39m, capacity):\n\u001b[0;32m--> 410\u001b[0m     \u001b[38;5;28;01mreturn\u001b[39;00m \u001b[43mBufferCupy\u001b[49m\u001b[43m(\u001b[49m\u001b[43mcapacity\u001b[49m\u001b[38;5;241;43m=\u001b[39;49m\u001b[43mcapacity\u001b[49m\u001b[43m,\u001b[49m\u001b[43m \u001b[49m\u001b[43mcontext\u001b[49m\u001b[38;5;241;43m=\u001b[39;49m\u001b[38;5;28;43mself\u001b[39;49m\u001b[43m)\u001b[49m\n",
      "File \u001b[0;32m/opt/homebrew/Caskroom/miniforge/base/envs/cheetah-demos/lib/python3.9/site-packages/xobjects/context.py:404\u001b[0m, in \u001b[0;36mXBuffer.__init__\u001b[0;34m(self, capacity, context, default_alignment, grow_step)\u001b[0m\n\u001b[1;32m    402\u001b[0m \u001b[38;5;28;01melse\u001b[39;00m:\n\u001b[1;32m    403\u001b[0m     \u001b[38;5;28mself\u001b[39m\u001b[38;5;241m.\u001b[39mcontext \u001b[38;5;241m=\u001b[39m context\n\u001b[0;32m--> 404\u001b[0m \u001b[38;5;28mself\u001b[39m\u001b[38;5;241m.\u001b[39mbuffer \u001b[38;5;241m=\u001b[39m \u001b[38;5;28;43mself\u001b[39;49m\u001b[38;5;241;43m.\u001b[39;49m\u001b[43m_new_buffer\u001b[49m\u001b[43m(\u001b[49m\u001b[43mcapacity\u001b[49m\u001b[43m)\u001b[49m\n\u001b[1;32m    405\u001b[0m \u001b[38;5;28mself\u001b[39m\u001b[38;5;241m.\u001b[39mcapacity \u001b[38;5;241m=\u001b[39m capacity\n\u001b[1;32m    406\u001b[0m \u001b[38;5;28;01mif\u001b[39;00m default_alignment \u001b[38;5;129;01mis\u001b[39;00m \u001b[38;5;28;01mNone\u001b[39;00m:\n",
      "File \u001b[0;32m/opt/homebrew/Caskroom/miniforge/base/envs/cheetah-demos/lib/python3.9/site-packages/xobjects/context_cupy.py:580\u001b[0m, in \u001b[0;36mBufferCupy._new_buffer\u001b[0;34m(self, capacity)\u001b[0m\n\u001b[1;32m    579\u001b[0m \u001b[38;5;28;01mdef\u001b[39;00m \u001b[38;5;21m_new_buffer\u001b[39m(\u001b[38;5;28mself\u001b[39m, capacity):\n\u001b[0;32m--> 580\u001b[0m     \u001b[38;5;28;01mreturn\u001b[39;00m \u001b[43mcupy\u001b[49m\u001b[38;5;241;43m.\u001b[39;49m\u001b[43mzeros\u001b[49m(shape\u001b[38;5;241m=\u001b[39m(capacity,), dtype\u001b[38;5;241m=\u001b[39mcupy\u001b[38;5;241m.\u001b[39muint8)\n",
      "File \u001b[0;32m/opt/homebrew/Caskroom/miniforge/base/envs/cheetah-demos/lib/python3.9/site-packages/xobjects/context.py:228\u001b[0m, in \u001b[0;36mModuleNotAvailable.__getattr__\u001b[0;34m(self, attr)\u001b[0m\n\u001b[1;32m    227\u001b[0m \u001b[38;5;28;01mdef\u001b[39;00m \u001b[38;5;21m__getattr__\u001b[39m(\u001b[38;5;28mself\u001b[39m, attr):\n\u001b[0;32m--> 228\u001b[0m     \u001b[38;5;28;01mraise\u001b[39;00m \u001b[38;5;167;01mNameError\u001b[39;00m(\u001b[38;5;28mself\u001b[39m\u001b[38;5;241m.\u001b[39mmessage)\n",
      "\u001b[0;31mNameError\u001b[0m: cupy is not installed. ContextCupy is not available!"
     ]
    }
   ],
   "source": [
    "line = xt.Line(\n",
    "    elements=[\n",
    "        xt.Marker(),\n",
    "        xt.Drift(length=0.1750),\n",
    "        xt.Quadrupole(length=0.1220, k1=10.0),\n",
    "        xt.Drift(length=0.4280),\n",
    "        xt.Quadrupole(length=0.1220, k1=-9.0),\n",
    "        xt.Drift(length=0.2040),\n",
    "        # xt.SimpleThinBend(length=0.0200, hxl=1e-3),\n",
    "        xt.Bend(length=0.0200, k0=0.1),\n",
    "        xt.Drift(length=0.2040),\n",
    "        xt.Quadrupole(length=0.1220, k1=-8.0),\n",
    "        xt.Drift(length=0.1790),\n",
    "        # xt.SimpleThinBend(length=0.0200, hxl=-2e-3),\n",
    "        xt.Bend(length=0.0200, k0=-0.1),\n",
    "        xt.Drift(length=0.4500),\n",
    "        xt.BeamPositionMonitor(),\n",
    "        xt.BeamSizeMonitor(),\n",
    "    ],\n",
    "    element_names=[element.name for element in segment.elements]\n",
    "    + [f\"{segment.elements[-1].name}_2\"],\n",
    ")\n",
    "\n",
    "# Choose a context\n",
    "# context = xo.ContextCpu()  # For CPU\n",
    "context = xo.ContextCupy()  # For CUDA GPUs\n",
    "\n",
    "# Transfer lattice on context and compile tracking code\n",
    "line.build_tracker(_context=context)"
   ]
  },
  {
   "cell_type": "code",
   "execution_count": null,
   "metadata": {},
   "outputs": [],
   "source": [
    "%%timeit\n",
    "outgoing_particles = line.track(particles.copy())"
   ]
  }
 ],
 "metadata": {
  "kernelspec": {
   "display_name": "cheetah-demos",
   "language": "python",
   "name": "python3"
  },
  "language_info": {
   "codemirror_mode": {
    "name": "ipython",
    "version": 3
   },
   "file_extension": ".py",
   "mimetype": "text/x-python",
   "name": "python",
   "nbconvert_exporter": "python",
   "pygments_lexer": "ipython3",
   "version": "3.9.18"
  }
 },
 "nbformat": 4,
 "nbformat_minor": 4
}
