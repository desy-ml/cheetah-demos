{
 "cells": [
  {
   "cell_type": "code",
   "execution_count": 1,
   "metadata": {},
   "outputs": [
    {
     "name": "stderr",
     "output_type": "stream",
     "text": [
      "/opt/homebrew/Caskroom/miniforge/base/envs/cheetah-demos/lib/python3.9/site-packages/ocelot/cpbd/beam.py:1567: NumbaDeprecationWarning: The 'nopython' keyword argument was not supplied to the 'numba.jit' decorator. The implicit default value for this argument is currently False, but it will be changed to True in Numba 0.59.0. See https://numba.readthedocs.io/en/stable/reference/deprecation.html#deprecation-of-object-mode-fall-back-behaviour-when-using-jit for details.\n",
      "  slice_analysis = slice_analysis_py if not nb_flag else nb.jit(slice_analysis_py)\n",
      "/opt/homebrew/Caskroom/miniforge/base/envs/cheetah-demos/lib/python3.9/site-packages/ocelot/cpbd/tm_utils.py:153: NumbaDeprecationWarning: The 'nopython' keyword argument was not supplied to the 'numba.jit' decorator. The implicit default value for this argument is currently False, but it will be changed to True in Numba 0.59.0. See https://numba.readthedocs.io/en/stable/reference/deprecation.html#deprecation-of-object-mode-fall-back-behaviour-when-using-jit for details.\n",
      "  transfer_maps_mult = transfer_maps_mult_py if nb_flag is not True else nb.jit(transfer_maps_mult_py)\n",
      "/opt/homebrew/Caskroom/miniforge/base/envs/cheetah-demos/lib/python3.9/site-packages/ocelot/cpbd/high_order.py:941: NumbaDeprecationWarning: The 'nopython' keyword argument was not supplied to the 'numba.jit' decorator. The implicit default value for this argument is currently False, but it will be changed to True in Numba 0.59.0. See https://numba.readthedocs.io/en/stable/reference/deprecation.html#deprecation-of-object-mode-fall-back-behaviour-when-using-jit for details.\n",
      "  moments = moments_py if not nb_flag else nb.jit(moments_py)\n",
      "/opt/homebrew/Caskroom/miniforge/base/envs/cheetah-demos/lib/python3.9/site-packages/ocelot/cpbd/elements/undulator_atom.py:58: NumbaDeprecationWarning: The 'nopython' keyword argument was not supplied to the 'numba.jit' decorator. The implicit default value for this argument is currently False, but it will be changed to True in Numba 0.59.0. See https://numba.readthedocs.io/en/stable/reference/deprecation.html#deprecation-of-object-mode-fall-back-behaviour-when-using-jit for details.\n",
      "  und_field = und_field_py if not nb_flag else nb.jit(forceobj=False)(und_field_py)\n",
      "/opt/homebrew/Caskroom/miniforge/base/envs/cheetah-demos/lib/python3.9/site-packages/ocelot/rad/radiation_py.py:434: NumbaDeprecationWarning: The 'nopython' keyword argument was not supplied to the 'numba.jit' decorator. The implicit default value for this argument is currently False, but it will be changed to True in Numba 0.59.0. See https://numba.readthedocs.io/en/stable/reference/deprecation.html#deprecation-of-object-mode-fall-back-behaviour-when-using-jit for details.\n",
      "  gintegrator_over_traj = gintegrator_over_traj_py if not nb_flag else nb.jit(gintegrator_over_traj_py)\n",
      "[INFO    ] \u001b[0mcsr.py: module PYFFTW is not installed. Install it to speed up calculation.\u001b[0m\n"
     ]
    },
    {
     "name": "stdout",
     "output_type": "stream",
     "text": [
      "initializing ocelot...\n",
      "import: module PYFFTW is not installed. Install it to speed up calculation\n"
     ]
    },
    {
     "name": "stderr",
     "output_type": "stream",
     "text": [
      "/opt/homebrew/Caskroom/miniforge/base/envs/cheetah-demos/lib/python3.9/site-packages/ocelot/cpbd/wake3D.py:80: NumbaDeprecationWarning: The 'nopython' keyword argument was not supplied to the 'numba.jit' decorator. The implicit default value for this argument is currently False, but it will be changed to True in Numba 0.59.0. See https://numba.readthedocs.io/en/stable/reference/deprecation.html#deprecation-of-object-mode-fall-back-behaviour-when-using-jit for details.\n",
      "  project_on_grid = project_on_grid_py if not nb_flag else nb.jit(project_on_grid_py)\n"
     ]
    }
   ],
   "source": [
    "from copy import deepcopy\n",
    "from itertools import product\n",
    "\n",
    "import numpy as np\n",
    "import ocelot\n",
    "from ocelot.cpbd.beam import generate_parray"
   ]
  },
  {
   "cell_type": "code",
   "execution_count": 2,
   "metadata": {},
   "outputs": [
    {
     "data": {
      "text/plain": [
       "[<XYQuadrupole: name=ID_54984144_ at 0x1762d66d0>]"
      ]
     },
     "execution_count": 2,
     "metadata": {},
     "output_type": "execute_result"
    }
   ],
   "source": [
    "quadrupole = ocelot.XYQuadrupole(\n",
    "    l=np.random.uniform(0.05, 0.5),  # 0.2\n",
    "    k1=np.random.uniform(-72.0, 72.0),  # 4.2\n",
    "    x_offs=np.random.uniform(-0.5e-3, 0.5e-3),\n",
    "    y_offs=np.random.uniform(-0.5e-3, 0.5e-3),\n",
    "    tilt=np.random.uniform(-0.1, 0.1),  # 0.0\n",
    ")\n",
    "cell = [quadrupole]\n",
    "cell"
   ]
  },
  {
   "cell_type": "code",
   "execution_count": 3,
   "metadata": {},
   "outputs": [
    {
     "data": {
      "text/plain": [
       "<ocelot.cpbd.beam.ParticleArray at 0x147b6f220>"
      ]
     },
     "execution_count": 3,
     "metadata": {},
     "output_type": "execute_result"
    }
   ],
   "source": [
    "p_array_incoming = generate_parray(\n",
    "    sigma_x=np.random.uniform(1e-5, 1e-3),  # 1e-4\n",
    "    sigma_px=np.random.uniform(1e-5, 1e-3),  # 2e-5\n",
    "    sigma_y=np.random.uniform(1e-5, 1e-3),  # None\n",
    "    sigma_py=np.random.uniform(1e-5, 1e-3),  # None\n",
    "    sigma_tau=np.random.uniform(1e-4, 1e-2),  # 1e-3\n",
    "    sigma_p=np.random.uniform(1e-5, 1e-3),  # 1e-4\n",
    "    chirp=np.random.uniform(-0.1, 0.1),  # 0.01\n",
    "    charge=np.random.uniform(1e-9, 1e-7),  # 5e-9\n",
    "    nparticles=np.random.randint(100_000, 1_000_000),  # 200_000\n",
    "    energy=np.random.uniform(0.001, 15.0),  # 0.13 (I think this is in GeV)\n",
    ")\n",
    "p_array_incoming"
   ]
  },
  {
   "cell_type": "code",
   "execution_count": 4,
   "metadata": {},
   "outputs": [
    {
     "name": "stdout",
     "output_type": "stream",
     "text": [
      "z = 0.4460377934499288 / 0.4460377934499288. Applied: "
     ]
    },
    {
     "data": {
      "text/plain": [
       "<ocelot.cpbd.beam.ParticleArray at 0x1762d6be0>"
      ]
     },
     "execution_count": 4,
     "metadata": {},
     "output_type": "execute_result"
    }
   ],
   "source": [
    "method = {\"global\": ocelot.SecondTM}\n",
    "lattice = ocelot.MagneticLattice(cell, method=method)\n",
    "\n",
    "space_charge = ocelot.SpaceCharge()\n",
    "space_charge.nmesh_xyz = [63, 63, 63]\n",
    "space_charge.step = 1\n",
    "\n",
    "navigator = ocelot.Navigator(lattice)\n",
    "navigator.add_physics_proc(space_charge, quadrupole, quadrupole)\n",
    "navigator.unit_step = 0.02\n",
    "\n",
    "p_array = deepcopy(p_array_incoming)\n",
    "_, p_array_outgoing = ocelot.track(lattice, p_array, navigator)\n",
    "\n",
    "p_array_outgoing"
   ]
  },
  {
   "cell_type": "code",
   "execution_count": 5,
   "metadata": {},
   "outputs": [],
   "source": [
    "ocelot.save_particle_array(\"p_array_outgoing.npz\", p_array_outgoing)"
   ]
  }
 ],
 "metadata": {
  "kernelspec": {
   "display_name": "cheetah-demos",
   "language": "python",
   "name": "python3"
  },
  "language_info": {
   "codemirror_mode": {
    "name": "ipython",
    "version": 3
   },
   "file_extension": ".py",
   "mimetype": "text/x-python",
   "name": "python",
   "nbconvert_exporter": "python",
   "pygments_lexer": "ipython3",
   "version": "3.9.18"
  }
 },
 "nbformat": 4,
 "nbformat_minor": 2
}
